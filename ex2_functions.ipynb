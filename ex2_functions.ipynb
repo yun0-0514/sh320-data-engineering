{
 "cells": [
  {
   "cell_type": "markdown",
   "metadata": {},
   "source": [
    "## **2. 함수**"
   ]
  },
  {
   "cell_type": "code",
   "execution_count": 3,
   "metadata": {},
   "outputs": [
    {
     "data": {
      "text/plain": [
       "1"
      ]
     },
     "execution_count": 3,
     "metadata": {},
     "output_type": "execute_result"
    }
   ],
   "source": [
    "# [+] 함수 정의 및 테스트\n",
    "def add_one(x):\n",
    "    return x + 1\n",
    "x=1\n",
    "x"
   ]
  },
  {
   "cell_type": "code",
   "execution_count": 4,
   "metadata": {},
   "outputs": [
    {
     "data": {
      "text/plain": [
       "6"
      ]
     },
     "execution_count": 4,
     "metadata": {},
     "output_type": "execute_result"
    }
   ],
   "source": [
    "# [+] 변수값을 이용한 함수 호출\n",
    "x = 5\n",
    "add_one(x)"
   ]
  },
  {
   "cell_type": "code",
   "execution_count": 2,
   "metadata": {},
   "outputs": [
    {
     "data": {
      "text/plain": [
       "'안녕하게요!! 저의 이름은홍길동입니다.'"
      ]
     },
     "execution_count": 2,
     "metadata": {},
     "output_type": "execute_result"
    }
   ],
   "source": [
    "def name(name):\n",
    "    mant=\"안녕하게요!! 저의 이름은\"+ name + \"입니다.\"\n",
    "    return mant\n",
    "name(\"홍길동\")\n"
   ]
  },
  {
   "cell_type": "code",
   "execution_count": 15,
   "metadata": {},
   "outputs": [
    {
     "name": "stdout",
     "output_type": "stream",
     "text": [
      "My name is Yunyoung Park and I'm 21 years old.\n"
     ]
    }
   ],
   "source": [
    "# [+] 클래스 및 메서드 정의\n",
    "class Person():  # 클래스 정의\n",
    "    def __init__(self, name, age):  # 생성자(constructor) 메서드, 여기서 self는 인스턴스로 객체를 받아옴\n",
    "        self.name = name\n",
    "        self.age = age\n",
    "\n",
    "    def introduction_myself(self):  # 일반 메서드 (self 추가)\n",
    "        print(f\"My name is {self.name} and I'm {self.age} years old.\")\n",
    "\n",
    "# [+] 인스턴스 생성 및 메서드 호출\n",
    "me = Person(\"Yunyoung Park\", 21)  # 인스턴스 생성\n",
    "me.introduction_myself()  # 메서드 호출 "
   ]
  },
  {
   "cell_type": "code",
   "execution_count": 16,
   "metadata": {},
   "outputs": [],
   "source": [
    "# [+] 클래스 및 메서드 정의\n",
    "class Person():# 클래스 정의\n",
    "    def __init__(self, name,age): # 생성자(constructor) 메서드,여기서 self는 인스턴스로 객체를 받아옴\n",
    "        self.name = name\n",
    "        self.age = age\n",
    "\n",
    "    def introduction_myself(self): # 일반 메서드\n",
    "        print(f\"My name is {self.name}  and i'm {self.age} years old.\")#"
   ]
  },
  {
   "cell_type": "code",
   "execution_count": 17,
   "metadata": {},
   "outputs": [
    {
     "name": "stdout",
     "output_type": "stream",
     "text": [
      "My name is Yunyoung Park  and i'm 21 years old.\n"
     ]
    }
   ],
   "source": [
    "# [+] 인스턴스 생성 및 메서드 호출\n",
    "me = Person(\"Yunyoung Park\",21) # 인스턴스 생성\n",
    "me.introduction_myself() # 메서드 호출"
   ]
  },
  {
   "cell_type": "code",
   "execution_count": null,
   "metadata": {},
   "outputs": [],
   "source": [
    "# 매개변수(parameters)와 인자(arguments)\n",
    "\n",
    "def introduce_myself(name, birthyear, city): # 매개변수 정의\n",
    "    print(f\"Hello everyone, my name is {name}, I was born in {birthyear}, and I live in {city}.\")\n",
    "\n",
    "introduce_myself(\"Hyun Ahn\", 1985, \"Anyang\") # 인자"
   ]
  },
  {
   "cell_type": "code",
   "execution_count": 20,
   "metadata": {},
   "outputs": [
    {
     "data": {
      "text/plain": [
       "'2025 is not a leap year.'"
      ]
     },
     "execution_count": 20,
     "metadata": {},
     "output_type": "execute_result"
    }
   ],
   "source": [
    "# [+] return 키워드\n",
    "\n",
    "# 예제: leap year(윤년)\n",
    "def check_leap_year(year):\n",
    "    if year % 4 == 0:\n",
    "        return f\"{year} is a leap year.\" \n",
    "    else:\n",
    "        return f\"{year} is not a leap year.\"\n",
    "    \n",
    "result = check_leap_year(2025)\n",
    "result"
   ]
  },
  {
   "cell_type": "code",
   "execution_count": 21,
   "metadata": {},
   "outputs": [
    {
     "name": "stdout",
     "output_type": "stream",
     "text": [
      "9 16 25\n"
     ]
    }
   ],
   "source": [
    "# [+] 여러 개의 값들을 반환\n",
    "\n",
    "def square_point(x, y, z):#매개변수수\n",
    "    x_squared = x ** 2\n",
    "    y_squared = y ** 2\n",
    "    z_squared = z ** 2\n",
    "    return x_squared, y_squared, z_squared\n",
    "\n",
    "three_squared, four_squared, five_squared = square_point(3, 4, 5)#아규먼트,입력값\n",
    "print( three_squared, four_squared, five_squared)"
   ]
  },
  {
   "cell_type": "code",
   "execution_count": 22,
   "metadata": {},
   "outputs": [
    {
     "ename": "NameError",
     "evalue": "name 'squared_one' is not defined",
     "output_type": "error",
     "traceback": [
      "\u001b[1;31m---------------------------------------------------------------------------\u001b[0m",
      "\u001b[1;31mNameError\u001b[0m                                 Traceback (most recent call last)",
      "Cell \u001b[1;32mIn[22], line 1\u001b[0m\n\u001b[1;32m----> 1\u001b[0m \u001b[38;5;28mprint\u001b[39m(squared_one)\n",
      "\u001b[1;31mNameError\u001b[0m: name 'squared_one' is not defined"
     ]
    }
   ],
   "source": [
    "print(squared_one)"
   ]
  },
  {
   "cell_type": "code",
   "execution_count": 23,
   "metadata": {},
   "outputs": [
    {
     "name": "stdout",
     "output_type": "stream",
     "text": [
      "Hello\n",
      "Hello\n"
     ]
    }
   ],
   "source": [
    "# 전역변수\n",
    "\n",
    "a = \"Hello\"\n",
    "\n",
    "def prints_a():\n",
    "    print(a)\n",
    "\n",
    "print(a)   # 함수 밖에서 호출:전역변수 출력\n",
    "prints_a() # 함수 호출:지역변수 출력력->지금은 값이 같음"
   ]
  },
  {
   "cell_type": "code",
   "execution_count": null,
   "metadata": {},
   "outputs": [
    {
     "name": "stdout",
     "output_type": "stream",
     "text": [
      "Hello\n",
      "Bye\n"
     ]
    },
    {
     "ename": "",
     "evalue": "",
     "output_type": "error",
     "traceback": [
      "\u001b[1;31m현재 셀 또는 이전 셀에서 코드를 실행하는 동안 Kernel이 충돌했습니다. \n",
      "\u001b[1;31m셀의 코드를 검토하여 가능한 오류 원인을 식별하세요. \n",
      "\u001b[1;31m자세한 내용을 보려면 <a href='https://aka.ms/vscodeJupyterKernelCrash'>여기</a>를 클릭하세요. \n",
      "\u001b[1;31m자세한 내용은 Jupyter <a href='command:jupyter.viewOutput'>로그</a>를 참조하세요."
     ]
    }
   ],
   "source": [
    "# 지역변수\n",
    "\n",
    "a = \"Hello\"\n",
    "\n",
    "def prints_a():\n",
    "    a = \"Bye\"\n",
    "    print(a)\n",
    "\n",
    "print(a)   # 함수 밖에서 호출: 전역 변수 출력 \n",
    "prints_a() # 함수 호출: 지역 변수 출력"
   ]
  },
  {
   "cell_type": "code",
   "execution_count": null,
   "metadata": {},
   "outputs": [],
   "source": [
    "# 함수 매개변수 = 지역변수\n",
    "def my_function(value):\n",
    "    print(value)\n",
    "\n",
    "print(my_function(7))\n",
    "print(value)"
   ]
  },
  {
   "cell_type": "code",
   "execution_count": null,
   "metadata": {},
   "outputs": [],
   "source": [
    "# [+] 키워드 인자(keyword arguments)와 디폴트 값\n",
    "\n",
    "def findvolume(height=1, width=1, depth=1):\n",
    "    print(\"Height = %s\" % (height))\n",
    "    print(\"Width = %s\" % (width))\n",
    "    print(\"Depth = %s\" % (depth))\n",
    "    return height * width * depth\n",
    "\n",
    "..."
   ]
  }
 ],
 "metadata": {
  "kernelspec": {
   "display_name": "Python 3",
   "language": "python",
   "name": "python3"
  },
  "language_info": {
   "codemirror_mode": {
    "name": "ipython",
    "version": 3
   },
   "file_extension": ".py",
   "mimetype": "text/x-python",
   "name": "python",
   "nbconvert_exporter": "python",
   "pygments_lexer": "ipython3",
   "version": "3.9.6"
  }
 },
 "nbformat": 4,
 "nbformat_minor": 4
}
