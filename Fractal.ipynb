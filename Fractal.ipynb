{
 "cells": [
  {
   "cell_type": "markdown",
   "id": "4bb2cc01",
   "metadata": {},
   "source": [
    "### 주요 라이브러리 import"
   ]
  },
  {
   "cell_type": "code",
   "execution_count": 3,
   "id": "cce02865",
   "metadata": {},
   "outputs": [],
   "source": [
    "import numpy as np\n",
    "import matplotlib.pyplot as plt\n",
    "from mpl_toolkits.axes_grid1 import make_axes_locatable"
   ]
  },
  {
   "cell_type": "markdown",
   "id": "8fc7d51c",
   "metadata": {},
   "source": [
    "### 시각화 설정"
   ]
  },
  {
   "cell_type": "code",
   "execution_count": 11,
   "id": "9e079f88",
   "metadata": {},
   "outputs": [
    {
     "data": {
      "text/plain": [
       "<contextlib.ExitStack at 0x22fa8d69ed0>"
      ]
     },
     "execution_count": 11,
     "metadata": {},
     "output_type": "execute_result"
    }
   ],
   "source": [
    "%matplotlib qt5\n",
    "%config InlineBackend.figure_format = 'svg'\n",
    "\n",
    "plt.rcParams['figure.figsize'] = [12, 5]\n",
    "plt.rcParams['font.size'] = 13\n",
    "plt.ion()"
   ]
  },
  {
   "cell_type": "markdown",
   "id": "c2d6ebfb",
   "metadata": {},
   "source": [
    "### 간단한 복소수 함수 살펴보기\n",
    "+ z를 입력받아 제곱을 구한 뒤 1을 뺄샘하는 Python 함수 f(z)를 구현하세요."
   ]
  },
  {
   "cell_type": "code",
   "execution_count": 18,
   "id": "d0098700",
   "metadata": {},
   "outputs": [
    {
     "data": {
      "text/plain": [
       "-1"
      ]
     },
     "execution_count": 18,
     "metadata": {},
     "output_type": "execute_result"
    }
   ],
   "source": [
    "def f(z):\n",
    "    output = np.power(z, 2) - 1\n",
    "    return output\n",
    "f(0)"
   ]
  },
  {
   "cell_type": "markdown",
   "id": "4f056129",
   "metadata": {},
   "source": [
    "### 배열을 받아 반환"
   ]
  },
  {
   "cell_type": "code",
   "execution_count": 34,
   "id": "27b66246",
   "metadata": {},
   "outputs": [
    {
     "data": {
      "text/plain": [
       "array([15.  +0.j , -0.04-0.4j,  1.56+0.j ])"
      ]
     },
     "execution_count": 34,
     "metadata": {},
     "output_type": "execute_result"
    }
   ],
   "source": [
    "z = [4, 1-0.2j, 1.6]\n",
    "f(z)"
   ]
  },
  {
   "cell_type": "markdown",
   "id": "3430cd5b",
   "metadata": {},
   "source": [
    "### 더 많은 복소수 집합에 대한 함수의 동작 확인\n",
    "+ 복소수 집합을 생성하고 이를 실수축과 허수축으로 구성되는 복소 평면에 시각화 할 수 있다.\n",
    "+ 데이터를 선형 간격으로 생성하는 lispace() 유니버설 함수를 이용하여 X축과 Y축에 해당되는 값 집합을 각각 생성하는 코드를 작성하시오."
   ]
  },
  {
   "cell_type": "code",
   "execution_count": 33,
   "id": "22f93df6",
   "metadata": {},
   "outputs": [],
   "source": [
    "#두 집합 모두 -10에서 10 사이에서 균일한 간격을 가지는 20개의 값으로 구성되며, 생성된 집합에 meshgrid()함수를 적용하면 집합 간에 Cartesian Product가 수행되어 2차원 점 집합이 생성됩니다.\n",
    "x, y = np.meshgrid(np.linspace(-10, 10, 20), np.linspace(-10, 10, 20))\n",
    "\n",
    "#복소수 집합(mesh)로 변환하기\n",
    "mesh = np.array(x + 1j * y)\n",
    "\n",
    "#mesh의 입력을 받아 f(z) 함수 계산 결과를의 절대값 구하기\n",
    "out_put = np.abs(f(mesh))\n"
   ]
  },
  {
   "cell_type": "markdown",
   "id": "90e70199",
   "metadata": {},
   "source": [
    "### 3차원 산점도로 시각화"
   ]
  },
  {
   "cell_type": "code",
   "execution_count": 39,
   "id": "828ec846",
   "metadata": {},
   "outputs": [
    {
     "data": {
      "text/plain": [
       "Text(0.5, 0.92, 'One Iteration: $f(z) = z^2 - 1$')"
      ]
     },
     "execution_count": 39,
     "metadata": {},
     "output_type": "execute_result"
    }
   ],
   "source": [
    "fig = plt.figure()\n",
    "ax = plt.axes(projection='3d')\n",
    "\n",
    "ax.scatter(x, y, output, alpha=0.2)\n",
    "\n",
    "ax.set_xlabel('Real axis')      # 실수부\n",
    "ax.set_ylabel('Imaginary axis') # 허수부\n",
    "ax.set_zlabel('Absolute value') # 함수값의 절대값\n",
    "ax.set_title('One Iteration: $f(z) = z^2 - 1$')"
   ]
  },
  {
   "cell_type": "code",
   "execution_count": 40,
   "id": "9e63075f",
   "metadata": {},
   "outputs": [
    {
     "data": {
      "text/plain": [
       "Text(0.5, 0.92, 'Two Iterations: $ f(z) = z^2 - 1$')"
      ]
     },
     "execution_count": 40,
     "metadata": {},
     "output_type": "execute_result"
    }
   ],
   "source": [
    "output = np.abs(f(f(mesh))) # 함수 두 번 반복\n",
    "\n",
    "ax = plt.axes(projection='3d')\n",
    "\n",
    "ax.scatter(x, y, output, alpha=0.2)\n",
    "\n",
    "ax.set_xlabel('Real axis')\n",
    "ax.set_ylabel('Imaginary axis')\n",
    "ax.set_zlabel('Absolute value')\n",
    "ax.set_title('Two Iterations: $ f(z) = z^2 - 1$')"
   ]
  },
  {
   "attachments": {
    "image.png": {
     "image/png": "[encoded data removed]"
    }
   },
   "cell_type": "markdown",
   "id": "4ac1b4f3",
   "metadata": {},
   "source": [
    "### 유사한 복소수 집합에 대해 함수 반복 적용하기\n",
    "![image.png](attachment:image.png)\n",
    "+ 각 값에 대해 함수를 10회 적용하기"
   ]
  },
  {
   "cell_type": "code",
   "execution_count": 42,
   "id": "b87866e6",
   "metadata": {},
   "outputs": [],
   "source": [
    "selected_values = np.array([0.4 + 0.4j, 0.41 + 0.4j, 0.4 + 0.41j])\n",
    "num_iter = 9\n",
    "\n",
    "outputs = np.zeros(\n",
    "    (num_iter+1, selected_values.shape[0]),  # 10X3 Zero 배열 생성\n",
    "    dtype=complex  # 데이터 타입: 복소수\n",
    ")\n",
    "outputs[0] = selected_values   # 함수 초기 조건\n",
    "\n",
    "for i in range(num_iter):\n",
    "    outputs[i+1] = f(outputs[i])  # 10번 함수 반복하는 동안 각 결과를 저장\n",
    "\n",
    "fig, axes = plt.subplots(1, selected_values.shape[0], figsize=(16, 6))\n",
    "axes[1].set_xlabel('Real axis')\n",
    "axes[0].set_ylabel('Imaginary axis')\n",
    "\n",
    "for ax, data in zip(axes, outputs.T):\n",
    "    cycle = ax.scatter(\n",
    "        data.real,  # 실수부\n",
    "        data.imag,  # 허수부\n",
    "        c=range(data.shape[0]), \n",
    "        alpha=0.6\n",
    "    )\n",
    "    ax.set_title(f'Mapping of iterations on {data[0]}')\n",
    "\n",
    "fig.colorbar(cycle, ax=axes, location='bottom', label='Iteration');"
   ]
  },
  {
   "cell_type": "markdown",
   "id": "67625809",
   "metadata": {},
   "source": [
    "### 발산 전까지 함수 반복 적용 및 시각화\n",
    "+ divergence_rate는 mesh의 각 복소수 값에 대해 함수 수행을 반복하고 값이 발산하기 전에 반복 횟수를 집계하는 코드입니다.\n",
    "\n",
    "+ 마스킹 연산을 이용하여 복소수 집합(z)내의 개별 복소수의 절대값이 반경(radius)보다 작을 경우, True 값을 가지는 Boolean 배열 마스크(conv_mask)을 생성\n",
    "참고: 절대값이 반경보다 작은 값들은 아직 발산되지 않은 값들이다.\n",
    "+ 생성된 마스크(conv_mask)에서 True 에 해당되는 diverge_len 배열의 값들을 선택해서 이들의 반복 횟수(diverge_len)를 1 증가.\n",
    "+ 마스크에서 True 에 해당되는 복소수 집합(z) 내의 값들을 선택하여 함수를 한 번 더 적용하고 그 결과를 z에 다시 저장\n"
   ]
  },
  {
   "cell_type": "code",
   "execution_count": 45,
   "id": "d92f56df",
   "metadata": {},
   "outputs": [],
   "source": [
    "def divergence_rate(mesh, num_iter=10, radius=2):\n",
    "\n",
    "    z = mesh.copy()\n",
    "    # 값 별 반복 횟수를 저장\n",
    "    diverge_len = np.zeros(mesh.shape)\n",
    "\n",
    "    # 발산되지 않은 값들에 대해 함수를 반복 적용\n",
    "    for i in range(num_iter):\n",
    "        # [+] 1. Boolean 배열  마스크 생성\n",
    "        conv_mask = np.array(np.abs(z) < radius, dtype=bool)\n",
    "\n",
    "        # [+] 2. 해당 값들에 대한 diverge_len 값 증가\n",
    "        diverge_len[conv_mask] += 1\n",
    "\n",
    "        # [+] 3. 해당 값들에 대해 함수 적용\n",
    "        z[conv_mask] = f(z[conv_mask])\n",
    "\n",
    "    return diverge_len"
   ]
  },
  {
   "cell_type": "markdown",
   "id": "d5a954f3",
   "metadata": {},
   "source": [
    "+ 위에서 함수를 정의했으니, 마지막으로 초기에 주어지는 복소수 집합 mesh를 다시 생성해야합니다. linspace()를 이용하여,[-2,2]범위의 균일한 400개의 값으로 이루어진 배열을 두 개 생성하세요.\n",
    "\n",
    "+ 나머지 코드는 두 배열로부터 mesh를 생성하고, 이를 인자로 해서 divergence_rate함수를 호출하고 반환받은 diverge_len을 2D 이미지로 시각화하는 부분입니다"
   ]
  },
  {
   "cell_type": "code",
   "execution_count": 46,
   "id": "fcfd87ae",
   "metadata": {},
   "outputs": [],
   "source": [
    "x, y = np.meshgrid(np.linspace(-2, 2, 400), np.linspace(-2, 2, 400))\n",
    "mesh = x + (1j * y)\n",
    "\n",
    "output = divergence_rate(mesh)\n",
    "\n",
    "fig = plt.figure(figsize=(5, 5))\n",
    "ax = plt.axes()\n",
    "\n",
    "ax.set_title('$f(z) = z^2-1$')\n",
    "ax.set_xlabel('Real axis')\n",
    "ax.set_ylabel('Imaginary axis')\n",
    "\n",
    "im = ax.imshow(output, extent=[-2, 2, -2, 2])\n",
    "divider = make_axes_locatable(ax)\n",
    "cax = divider.append_axes('right', size='5%', pad=0.1)\n",
    "plt.colorbar(im, cax=cax, label='Number of iterations');\n"
   ]
  }
 ],
 "metadata": {
  "kernelspec": {
   "display_name": "base",
   "language": "python",
   "name": "python3"
  },
  "language_info": {
   "codemirror_mode": {
    "name": "ipython",
    "version": 3
   },
   "file_extension": ".py",
   "mimetype": "text/x-python",
   "name": "python",
   "nbconvert_exporter": "python",
   "pygments_lexer": "ipython3",
   "version": "3.11.7"
  }
 },
 "nbformat": 4,
 "nbformat_minor": 5
}
