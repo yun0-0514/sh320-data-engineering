{
 "cells": [
  {
   "cell_type": "markdown",
   "id": "3ee5ef08",
   "metadata": {},
   "source": [
    "# 과제 2-3  Carly's Clippers \n",
    "### 202058128 박윤영"
   ]
  },
  {
   "cell_type": "markdown",
   "id": "fd597392",
   "metadata": {},
   "source": [
    "1. 스타일 및 가격, 커트횟수 등록"
   ]
  },
  {
   "cell_type": "code",
   "execution_count": 3,
   "id": "22874ac0",
   "metadata": {},
   "outputs": [],
   "source": [
    "hairstyles = [\"bouffant\", \"pixie\", \"dreadlocks\", \"crew\", \"bowl\", \"bob\", \"mohawk\", \"flattop\"]\n",
    "prices = [30, 25, 40, 20, 20, 35, 50, 35]\n",
    "last_week = [2, 3, 5, 8, 4, 4, 6, 2]"
   ]
  },
  {
   "cell_type": "code",
   "execution_count": 14,
   "id": "f725a193",
   "metadata": {},
   "outputs": [
    {
     "data": {
      "text/plain": [
       "31.875"
      ]
     },
     "execution_count": 14,
     "metadata": {},
     "output_type": "execute_result"
    }
   ],
   "source": [
    "total_price = 0\n",
    "for price in prices: #sum(prices)도 같음\n",
    "    total_price += price\n",
    "average_price = total_price/len(prices)\n",
    "average_price"
   ]
  },
  {
   "cell_type": "code",
   "execution_count": 16,
   "id": "33cd2ebf",
   "metadata": {},
   "outputs": [
    {
     "data": {
      "text/plain": [
       "[25, 20, 35, 15, 15, 30, 45, 30]"
      ]
     },
     "execution_count": 16,
     "metadata": {},
     "output_type": "execute_result"
    }
   ],
   "source": [
    "new_price =[]\n",
    "for price in prices:\n",
    "    new_price.append(price-5)\n",
    "new_price\n"
   ]
  },
  {
   "cell_type": "code",
   "execution_count": 24,
   "id": "03c2cc47",
   "metadata": {},
   "outputs": [
    {
     "name": "stdout",
     "output_type": "stream",
     "text": [
      "1085\n",
      "total_revenue is 155.0\n"
     ]
    }
   ],
   "source": [
    "total_revenue = 0\n",
    "for i in range(len(prices)):\n",
    "    total_revenue += prices[i] * last_week[i]\n",
    "print(total_revenue)\n",
    "\n",
    "average_daily_revenue = total_revenue/7\n",
    "print(\"total_revenue is\", average_daily_revenue)"
   ]
  },
  {
   "cell_type": "code",
   "execution_count": 30,
   "id": "e86f11ad",
   "metadata": {},
   "outputs": [
    {
     "name": "stdout",
     "output_type": "stream",
     "text": [
      "['bouffant', 'pixie', 'crew', 'bowl']\n"
     ]
    }
   ],
   "source": [
    "cuts_under_30 = []\n",
    "for price in range(len(new_price)):\n",
    "    if new_price[price] < 30:\n",
    "        cuts_under_30.append(hairstyles[price])\n",
    "print(cuts_under_30)"
   ]
  }
 ],
 "metadata": {
  "kernelspec": {
   "display_name": "base",
   "language": "python",
   "name": "python3"
  },
  "language_info": {
   "codemirror_mode": {
    "name": "ipython",
    "version": 3
   },
   "file_extension": ".py",
   "mimetype": "text/x-python",
   "name": "python",
   "nbconvert_exporter": "python",
   "pygments_lexer": "ipython3",
   "version": "3.11.7"
  }
 },
 "nbformat": 4,
 "nbformat_minor": 5
}
