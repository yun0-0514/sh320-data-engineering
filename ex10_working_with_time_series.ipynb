{
 "cells": [
  {
   "cell_type": "markdown",
   "metadata": {},
   "source": [
    "## <strong> 10. 시계열 데이터 생성 및 조작 </strong>"
   ]
  },
  {
   "cell_type": "markdown",
   "metadata": {},
   "source": [
    "### <strong> Python 내장 모듈을 이용한 Datetime 생성\n",
    "---"
   ]
  },
  {
   "cell_type": "markdown",
   "metadata": {},
   "source": [
    "#### ```datetime```, ```dateutil```: 시계열 처리를 위한 Python 내장 모듈"
   ]
  },
  {
   "cell_type": "code",
   "execution_count": 1,
   "metadata": {},
   "outputs": [
    {
     "data": {
      "text/plain": [
       "datetime.datetime(2025, 5, 7, 0, 0)"
      ]
     },
     "execution_count": 1,
     "metadata": {},
     "output_type": "execute_result"
    }
   ],
   "source": [
    "from datetime import datetime\n",
    "\n",
    "# datetime 객체 생성\n",
    "t = datetime(year=2025, month=5, day=7) #인자 값으로 연도, 월, 일 \n",
    "t"
   ]
  },
  {
   "cell_type": "code",
   "execution_count": 2,
   "metadata": {},
   "outputs": [
    {
     "data": {
      "text/plain": [
       "2025"
      ]
     },
     "execution_count": 2,
     "metadata": {},
     "output_type": "execute_result"
    }
   ],
   "source": [
    "# datetime 속성 접근: year\n",
    "pritn(t.year)\n",
    "print(t.month)\n",
    "print(t.day)"
   ]
  },
  {
   "cell_type": "code",
   "execution_count": 3,
   "metadata": {},
   "outputs": [
    {
     "data": {
      "text/plain": [
       "datetime.datetime(2025, 5, 7, 0, 0)"
      ]
     },
     "execution_count": 3,
     "metadata": {},
     "output_type": "execute_result"
    }
   ],
   "source": [
    "# 문자열 파싱을 통한 날짜 해석\n",
    "from dateutil import parser\n",
    "# 2024-11-05, 11-05, 2024\n",
    "date = parser.parse(\"7th of May, 2025\") #parser를 이용\n",
    "# date = parser.parse(\"05-07-2025\")\n",
    "\n",
    "date"
   ]
  },
  {
   "cell_type": "markdown",
   "metadata": {},
   "source": [
    "#### ```strftime()```: datetime의 속성을 문자열 형태로 출력"
   ]
  },
  {
   "cell_type": "code",
   "execution_count": 5,
   "metadata": {},
   "outputs": [
    {
     "data": {
      "text/plain": [
       "'Wednesday'"
      ]
     },
     "execution_count": 5,
     "metadata": {},
     "output_type": "execute_result"
    }
   ],
   "source": [
    "# [+] 요일 출력\n",
    "date.strftime('%A')"
   ]
  },
  {
   "cell_type": "code",
   "execution_count": 7,
   "metadata": {},
   "outputs": [
    {
     "data": {
      "text/plain": [
       "'May'"
      ]
     },
     "execution_count": 7,
     "metadata": {},
     "output_type": "execute_result"
    }
   ],
   "source": [
    "# [+] 월 출력\n",
    "date.strftime('%B')"
   ]
  },
  {
   "cell_type": "markdown",
   "metadata": {},
   "source": [
    "### <strong> NumPy를 이용한 Datetime 배열 생성</strong>\n",
    "---\n",
    "```datetime64```: ```NumPy```에서 지원하는 datetime 클래스"
   ]
  },
  {
   "cell_type": "code",
   "execution_count": 8,
   "metadata": {},
   "outputs": [
    {
     "data": {
      "text/plain": [
       "array(['2025-05-07', '2025-05-08'], dtype='datetime64[D]')"
      ]
     },
     "execution_count": 8,
     "metadata": {},
     "output_type": "execute_result"
    }
   ],
   "source": [
    "import numpy as np\n",
    "\n",
    "# datetime64 배열 객체 생성, 시간 데이터의 대규모 처리 제공\n",
    "dates = np.array(['2025-05-07', '2025-05-08'], dtype=np.datetime64) #dtapye을 통해서 데이터 타입을 정함(datetime64)\n",
    "dates"
   ]
  },
  {
   "cell_type": "code",
   "execution_count": 10,
   "metadata": {},
   "outputs": [
    {
     "data": {
      "text/plain": [
       "numpy.datetime64('2025-05-01')"
      ]
     },
     "execution_count": 10,
     "metadata": {},
     "output_type": "execute_result"
    }
   ],
   "source": [
    "# datetime64() 메서드를 이용한 객체 생성\n",
    "date = np.datetime64('2025-05-01')\n",
    "date"
   ]
  },
  {
   "cell_type": "code",
   "execution_count": 11,
   "metadata": {},
   "outputs": [
    {
     "data": {
      "text/plain": [
       "array(['2025-05-01', '2025-05-02', '2025-05-03', '2025-05-04',\n",
       "       '2025-05-05', '2025-05-06', '2025-05-07', '2025-05-08',\n",
       "       '2025-05-09', '2025-05-10', '2025-05-11', '2025-05-12',\n",
       "       '2025-05-13', '2025-05-14', '2025-05-15', '2025-05-16',\n",
       "       '2025-05-17', '2025-05-18', '2025-05-19', '2025-05-20',\n",
       "       '2025-05-21', '2025-05-22', '2025-05-23', '2025-05-24',\n",
       "       '2025-05-25', '2025-05-26', '2025-05-27', '2025-05-28',\n",
       "       '2025-05-29', '2025-05-30', '2025-05-31'], dtype='datetime64[D]')"
      ]
     },
     "execution_count": 11,
     "metadata": {},
     "output_type": "execute_result"
    }
   ],
   "source": [
    "# 벡터화 연산을 통한 Datetime 배열 생성\n",
    "date + np.arange(31) # [0, 1, .. 30]"
   ]
  },
  {
   "cell_type": "code",
   "execution_count": 13,
   "metadata": {},
   "outputs": [
    {
     "data": {
      "text/plain": [
       "numpy.datetime64('2025-05-07T14:30')"
      ]
     },
     "execution_count": 13,
     "metadata": {},
     "output_type": "execute_result"
    }
   ],
   "source": [
    "# 분(minute) 단위의 Datetime 객체 생성\n",
    "t = np.datetime64('2025-05-07 14:30')\n",
    "t"
   ]
  },
  {
   "cell_type": "code",
   "execution_count": 14,
   "metadata": {},
   "outputs": [
    {
     "data": {
      "text/plain": [
       "numpy.datetime64('2025-05-07T14:30:59.990')"
      ]
     },
     "execution_count": 14,
     "metadata": {},
     "output_type": "execute_result"
    }
   ],
   "source": [
    "# 디폴트 시간 빈도: ms\n",
    "t = np.datetime64('2025-05-07 14:30:59.99')\n",
    "t"
   ]
  },
  {
   "cell_type": "code",
   "execution_count": 15,
   "metadata": {},
   "outputs": [
    {
     "data": {
      "text/plain": [
       "numpy.datetime64('2025-05-07T14:30:59.990000000')"
      ]
     },
     "execution_count": 15,
     "metadata": {},
     "output_type": "execute_result"
    }
   ],
   "source": [
    "# 시간 빈도를 Nanosecond로 설정\n",
    "t = np.datetime64('2025-05-07 14:30:59.99', 'ns')\n",
    "t"
   ]
  },
  {
   "cell_type": "code",
   "execution_count": 16,
   "metadata": {},
   "outputs": [
    {
     "data": {
      "text/plain": [
       "numpy.datetime64('2025-05')"
      ]
     },
     "execution_count": 16,
     "metadata": {},
     "output_type": "execute_result"
    }
   ],
   "source": [
    "# datetime64 코드: Y, M, D, h...\n",
    "t = np.datetime64('2025-05-07 14:30:59.99', 'M')\n",
    "t"
   ]
  },
  {
   "cell_type": "markdown",
   "metadata": {},
   "source": [
    "### <strong> Pandas에서의 시계열 처리</strong>\n",
    "---"
   ]
  },
  {
   "cell_type": "code",
   "execution_count": 19,
   "metadata": {},
   "outputs": [
    {
     "data": {
      "text/plain": [
       "Timestamp('2001-05-14 00:00:00')"
      ]
     },
     "execution_count": 19,
     "metadata": {},
     "output_type": "execute_result"
    }
   ],
   "source": [
    "import pandas as pd\n",
    "\n",
    "# [+] to_datetime() 함수를 이용한 Timestamp 객체 생성 \n",
    "date = pd.to_datetime(\"2001-05-14\") # 본인 생일로 입력\n",
    "date"
   ]
  },
  {
   "cell_type": "code",
   "execution_count": 22,
   "metadata": {},
   "outputs": [
    {
     "data": {
      "text/plain": [
       "'Monday'"
      ]
     },
     "execution_count": 22,
     "metadata": {},
     "output_type": "execute_result"
    }
   ],
   "source": [
    "# [+] 요일 출력\n",
    "date.strftime(\"%A\") #요일 출력"
   ]
  },
  {
   "cell_type": "code",
   "execution_count": 24,
   "metadata": {},
   "outputs": [
    {
     "data": {
      "text/plain": [
       "DatetimeIndex([          '2001-05-14 00:00:00',\n",
       "               '2001-05-14 00:00:00.000000001',\n",
       "               '2001-05-14 00:00:00.000000002',\n",
       "               '2001-05-14 00:00:00.000000003',\n",
       "               '2001-05-14 00:00:00.000000004',\n",
       "               '2001-05-14 00:00:00.000000005',\n",
       "               '2001-05-14 00:00:00.000000006'],\n",
       "              dtype='datetime64[ns]', freq=None)"
      ]
     },
     "execution_count": 24,
     "metadata": {},
     "output_type": "execute_result"
    }
   ],
   "source": [
    "# NumPy 스타일의 배열 연산, timedelta는 나노초 단위로 시간차에 따른 배열을 만들어줌\n",
    "date + pd.to_timedelta(np.arange(7))"
   ]
  },
  {
   "cell_type": "code",
   "execution_count": 25,
   "metadata": {},
   "outputs": [
    {
     "data": {
      "text/plain": [
       "DatetimeIndex(['2001-05-14', '2001-05-15', '2001-05-16', '2001-05-17',\n",
       "               '2001-05-18', '2001-05-19', '2001-05-20'],\n",
       "              dtype='datetime64[ns]', freq=None)"
      ]
     },
     "execution_count": 25,
     "metadata": {},
     "output_type": "execute_result"
    }
   ],
   "source": [
    "date + pd.to_timedelta(np.arange(7), unit='D')"
   ]
  },
  {
   "cell_type": "markdown",
   "metadata": {},
   "source": [
    "#### <strong> 시계열 생성"
   ]
  },
  {
   "cell_type": "code",
   "execution_count": 26,
   "metadata": {},
   "outputs": [
    {
     "data": {
      "text/plain": [
       "DatetimeIndex(['2022-10-27', '2022-10-28', '2022-10-29', '2022-10-30',\n",
       "               '2022-10-31', '2022-11-01', '2022-11-02'],\n",
       "              dtype='datetime64[ns]', freq=None)"
      ]
     },
     "execution_count": 26,
     "metadata": {},
     "output_type": "execute_result"
    }
   ],
   "source": [
    "# DatetimeIndex 객체 생성, 여러개의 타임스탬프를 담는 판다스의 함수는 DatetimeIndex이다.\n",
    "ind = pd.DatetimeIndex(['2022-10-27', '2022-10-28', '2022-10-29', '2022-10-30',\n",
    "                        '2022-10-31', '2022-11-01', '2022-11-02'])\n",
    "ind"
   ]
  },
  {
   "cell_type": "code",
   "execution_count": 28,
   "metadata": {},
   "outputs": [
    {
     "data": {
      "text/plain": [
       "2022-10-27    0\n",
       "2022-10-28    1\n",
       "2022-10-29    2\n",
       "2022-10-30    3\n",
       "2022-10-31    4\n",
       "2022-11-01    5\n",
       "2022-11-02    6\n",
       "dtype: int64"
      ]
     },
     "execution_count": 28,
     "metadata": {},
     "output_type": "execute_result"
    }
   ],
   "source": [
    "# [+] 시계열 인덱싱 적용\n",
    "ser = pd.Series([0, 1, 2, 3, 4, 5, 6], index=ind) #위에서 만든 타임스탬프 객체를 각각에 데이터에 대한 인덱스가 되고,하나의 1차원 배열이 됨\n",
    "ser"
   ]
  },
  {
   "cell_type": "code",
   "execution_count": 31,
   "metadata": {},
   "outputs": [
    {
     "data": {
      "text/plain": [
       "DatetimeIndex(['2022-10-27', '2022-10-28', '2022-10-29', '2022-10-30',\n",
       "               '2022-10-31', '2022-11-01', '2022-11-02'],\n",
       "              dtype='datetime64[ns]', freq=None)"
      ]
     },
     "execution_count": 31,
     "metadata": {},
     "output_type": "execute_result"
    }
   ],
   "source": [
    "ser.index # 반대로 인덱스 가능"
   ]
  },
  {
   "cell_type": "code",
   "execution_count": 34,
   "metadata": {},
   "outputs": [
    {
     "data": {
      "text/plain": [
       "2"
      ]
     },
     "execution_count": 34,
     "metadata": {},
     "output_type": "execute_result"
    }
   ],
   "source": [
    "# [+] 인덱싱\n",
    "ser['2022-10-29']"
   ]
  },
  {
   "cell_type": "code",
   "execution_count": 37,
   "metadata": {},
   "outputs": [
    {
     "data": {
      "text/plain": [
       "2022-10-27    0\n",
       "2022-10-28    1\n",
       "2022-10-29    2\n",
       "2022-10-30    3\n",
       "2022-10-31    4\n",
       "dtype: int64"
      ]
     },
     "execution_count": 37,
     "metadata": {},
     "output_type": "execute_result"
    }
   ],
   "source": [
    "# [+] 슬라이싱\n",
    "ser[:'2022-10-31']"
   ]
  },
  {
   "cell_type": "code",
   "execution_count": 39,
   "metadata": {},
   "outputs": [
    {
     "data": {
      "text/plain": [
       "2022-10-27    0\n",
       "2022-10-28    1\n",
       "2022-10-29    2\n",
       "2022-10-30    3\n",
       "2022-10-31    4\n",
       "dtype: int64"
      ]
     },
     "execution_count": 39,
     "metadata": {},
     "output_type": "execute_result"
    }
   ],
   "source": [
    "# [+] 데이터 선택\n",
    "ser['2022-10'] #이렇게 직관적으로 가능함 ㅋㅋ"
   ]
  },
  {
   "cell_type": "markdown",
   "metadata": {},
   "source": [
    "#### <strong> 시계열 관련 Pandas의 데이터 구조"
   ]
  },
  {
   "cell_type": "code",
   "execution_count": 40,
   "metadata": {},
   "outputs": [
    {
     "name": "stdout",
     "output_type": "stream",
     "text": [
      "DatetimeIndex(['2015-07-03', '2015-07-04', '2015-07-06', '2015-07-07',\n",
      "               '2015-07-08'],\n",
      "              dtype='datetime64[ns]', freq=None)\n"
     ]
    }
   ],
   "source": [
    "# Timestamp와 DatetimeIndex\n",
    "dates = pd.to_datetime([datetime(2015, 7, 3),\n",
    "                      \"4th of July, 2015\",\n",
    "                      '2015-Jul-6',\n",
    "                      '07-07-2015',\n",
    "                      '20150708'])\n",
    "print(dates)"
   ]
  },
  {
   "cell_type": "code",
   "execution_count": 43,
   "metadata": {},
   "outputs": [
    {
     "data": {
      "text/plain": [
       "PeriodIndex(['2015-06-29/2015-07-05', '2015-06-29/2015-07-05',\n",
       "             '2015-07-06/2015-07-12', '2015-07-06/2015-07-12',\n",
       "             '2015-07-06/2015-07-12'],\n",
       "            dtype='period[W-SUN]')"
      ]
     },
     "execution_count": 43,
     "metadata": {},
     "output_type": "execute_result"
    }
   ],
   "source": [
    "# to_period(): DatetimeIndex -> PeriodIndex 변환\n",
    "dates.to_period('W') #주 단위의 preiod데이터로 반환"
   ]
  },
  {
   "cell_type": "code",
   "execution_count": 44,
   "metadata": {},
   "outputs": [
    {
     "data": {
      "text/plain": [
       "TimedeltaIndex(['0 days', '1 days', '3 days', '4 days', '5 days'], dtype='timedelta64[ns]', freq=None)"
      ]
     },
     "execution_count": 44,
     "metadata": {},
     "output_type": "execute_result"
    }
   ],
   "source": [
    "# [+] TimedeltaIndex 생성\n",
    "dates - dates[0]# 모든 날짜에서 기준일을 뺌"
   ]
  },
  {
   "cell_type": "markdown",
   "metadata": {},
   "source": [
    "#### <strong> 정규 시퀀스 </strong>"
   ]
  },
  {
   "cell_type": "code",
   "execution_count": 46,
   "metadata": {},
   "outputs": [
    {
     "data": {
      "text/plain": [
       "DatetimeIndex(['2022-10-27', '2022-10-28', '2022-10-29', '2022-10-30',\n",
       "               '2022-10-31'],\n",
       "              dtype='datetime64[ns]', freq='D')"
      ]
     },
     "execution_count": 46,
     "metadata": {},
     "output_type": "execute_result"
    }
   ],
   "source": [
    "# [+] pd.date_range()를 이용한 정규 시퀀스 생성\n",
    "pd.date_range('2022-10-27','2022-10-31')"
   ]
  },
  {
   "cell_type": "code",
   "execution_count": 48,
   "metadata": {},
   "outputs": [
    {
     "data": {
      "text/plain": [
       "DatetimeIndex(['2022-10-27', '2022-10-28', '2022-10-29', '2022-10-30',\n",
       "               '2022-10-31', '2022-11-01', '2022-11-02', '2022-11-03',\n",
       "               '2022-11-04', '2022-11-05'],\n",
       "              dtype='datetime64[ns]', freq='D')"
      ]
     },
     "execution_count": 48,
     "metadata": {},
     "output_type": "execute_result"
    }
   ],
   "source": [
    "# [+] Period 값을 이용\n",
    "pd.date_range('2022-10-27', periods=10)"
   ]
  },
  {
   "cell_type": "code",
   "execution_count": 50,
   "metadata": {},
   "outputs": [
    {
     "data": {
      "text/plain": [
       "DatetimeIndex(['2022-10-27 00:00:00', '2022-10-27 01:00:00',\n",
       "               '2022-10-27 02:00:00', '2022-10-27 03:00:00',\n",
       "               '2022-10-27 04:00:00', '2022-10-27 05:00:00',\n",
       "               '2022-10-27 06:00:00', '2022-10-27 07:00:00',\n",
       "               '2022-10-27 08:00:00', '2022-10-27 09:00:00',\n",
       "               '2022-10-27 10:00:00', '2022-10-27 11:00:00'],\n",
       "              dtype='datetime64[ns]', freq='H')"
      ]
     },
     "execution_count": 50,
     "metadata": {},
     "output_type": "execute_result"
    }
   ],
   "source": [
    "# 빈도 변경->시간 단위로 바꿈꿈\n",
    "pd.date_range('2022-10-27', periods=12, freq='H')#0시붙 12개 만듬"
   ]
  },
  {
   "cell_type": "code",
   "execution_count": 52,
   "metadata": {},
   "outputs": [
    {
     "data": {
      "text/plain": [
       "PeriodIndex(['2015-07', '2015-08', '2015-09', '2015-10', '2015-11', '2015-12',\n",
       "             '2016-01', '2016-02'],\n",
       "            dtype='period[M]')"
      ]
     },
     "execution_count": 52,
     "metadata": {},
     "output_type": "execute_result"
    }
   ],
   "source": [
    "# pd.period_range()\n",
    "pd.period_range('2015-07', periods=8, freq='M')#period데이터를 월단위로 만들기"
   ]
  },
  {
   "cell_type": "code",
   "execution_count": 54,
   "metadata": {},
   "outputs": [
    {
     "name": "stdout",
     "output_type": "stream",
     "text": [
      "True\n",
      "2022-10-27 00:00:00\n",
      "2022-10-27 23:59:59.999999999\n"
     ]
    }
   ],
   "source": [
    "# Timestamp vs. Period\n",
    "period = pd.Period('2022-10-27')\n",
    "timestamp = pd.Timestamp('2022-10-27 09:30')\n",
    "\n",
    "print(period.start_time < timestamp < period.end_time)#period는 시작과 끝을 가지고 있음\n",
    "\n",
    "print(period.start_time)\n",
    "\n",
    "print(period.end_time)"
   ]
  },
  {
   "cell_type": "code",
   "execution_count": 56,
   "metadata": {},
   "outputs": [
    {
     "data": {
      "text/plain": [
       "TimedeltaIndex(['0 days 00:00:00', '0 days 01:00:00', '0 days 02:00:00',\n",
       "                '0 days 03:00:00', '0 days 04:00:00', '0 days 05:00:00',\n",
       "                '0 days 06:00:00', '0 days 07:00:00', '0 days 08:00:00',\n",
       "                '0 days 09:00:00'],\n",
       "               dtype='timedelta64[ns]', freq='H')"
      ]
     },
     "execution_count": 56,
     "metadata": {},
     "output_type": "execute_result"
    }
   ],
   "source": [
    "# pd.timedelta_range()->크게 중요하진 않은 듯\n",
    "pd.timedelta_range(0, periods=10, freq='H')"
   ]
  },
  {
   "cell_type": "markdown",
   "metadata": {},
   "source": [
    "| Code   | Description         | Code   | Description          |\n",
    "|--------|---------------------|--------|----------------------|\n",
    "| ``D``  | Calendar day        | ``B``  | Business day         |\n",
    "| ``W``  | Weekly              |   -    |                      |\n",
    "| ``M``  | Month end           | ``BM`` | Business month end   |\n",
    "| ``Q``  | Quarter end         | ``BQ`` | Business quarter end |\n",
    "| ``A``  | Year end            | ``BA`` | Business year end    |\n",
    "| ``H``  | Hours               | ``BH`` | Business hours       |\n",
    "| ``T``  | Minutes             |   -    |                      |\n",
    "| ``S``  | Seconds             |   -    |                      |\n",
    "| ``L``  | Milliseonds         |   -    |                      |\n",
    "| ``U``  | Microseconds        |   -    |                      |\n",
    "| ``N``  | nanoseconds         |   -    |                      |"
   ]
  },
  {
   "cell_type": "markdown",
   "metadata": {},
   "source": [
    "#### <strong> 빈도 및 오프셋"
   ]
  },
  {
   "cell_type": "code",
   "execution_count": 57,
   "metadata": {},
   "outputs": [
    {
     "data": {
      "text/plain": [
       "DatetimeIndex(['2022-11-01 00:00:00', '2022-11-01 01:00:00',\n",
       "               '2022-11-01 02:00:00', '2022-11-01 03:00:00',\n",
       "               '2022-11-01 04:00:00', '2022-11-01 05:00:00',\n",
       "               '2022-11-01 06:00:00', '2022-11-01 07:00:00',\n",
       "               '2022-11-01 08:00:00', '2022-11-01 09:00:00'],\n",
       "              dtype='datetime64[ns]', freq='H')"
      ]
     },
     "execution_count": 57,
     "metadata": {},
     "output_type": "execute_result"
    }
   ],
   "source": [
    "# 빈도 코드\n",
    "pd.date_range('2022-11-01', periods=10, freq='H')"
   ]
  },
  {
   "cell_type": "code",
   "execution_count": 58,
   "metadata": {},
   "outputs": [
    {
     "data": {
      "text/plain": [
       "DatetimeIndex(['2022-11-30', '2022-12-31', '2023-01-31', '2023-02-28',\n",
       "               '2023-03-31', '2023-04-30', '2023-05-31', '2023-06-30',\n",
       "               '2023-07-31', '2023-08-31'],\n",
       "              dtype='datetime64[ns]', freq='M')"
      ]
     },
     "execution_count": 58,
     "metadata": {},
     "output_type": "execute_result"
    }
   ],
   "source": [
    "# 빈도, M: 월말\n",
    "(pd.date_range('2022-11-01', periods=10, freq=\"M\"))"
   ]
  },
  {
   "cell_type": "code",
   "execution_count": 59,
   "metadata": {},
   "outputs": [
    {
     "data": {
      "text/plain": [
       "DatetimeIndex(['2022-11-30', '2022-12-30', '2023-01-31', '2023-02-28',\n",
       "               '2023-03-31', '2023-04-28', '2023-05-31', '2023-06-30',\n",
       "               '2023-07-31', '2023-08-31'],\n",
       "              dtype='datetime64[ns]', freq='BM')"
      ]
     },
     "execution_count": 59,
     "metadata": {},
     "output_type": "execute_result"
    }
   ],
   "source": [
    "# 빈도, BM: 비즈니스 기준 월말\n",
    "pd.date_range('2022-11-01', periods=10, freq=\"BM\")"
   ]
  },
  {
   "cell_type": "code",
   "execution_count": 60,
   "metadata": {},
   "outputs": [
    {
     "data": {
      "text/plain": [
       "DatetimeIndex(['2022-11-01', '2022-12-01', '2023-01-01', '2023-02-01',\n",
       "               '2023-03-01', '2023-04-01', '2023-05-01', '2023-06-01',\n",
       "               '2023-07-01', '2023-08-01'],\n",
       "              dtype='datetime64[ns]', freq='MS')"
      ]
     },
     "execution_count": 60,
     "metadata": {},
     "output_type": "execute_result"
    }
   ],
   "source": [
    "# 접미사 'S': 시작 일시를 기준으로 시퀀스 생성\n",
    "pd.date_range('2022-11-01', periods=10, freq='MS')"
   ]
  },
  {
   "cell_type": "code",
   "execution_count": 63,
   "metadata": {},
   "outputs": [
    {
     "data": {
      "text/plain": [
       "DatetimeIndex(['2025-05-07 09:30:00', '2025-05-07 11:00:00',\n",
       "               '2025-05-07 12:30:00', '2025-05-07 14:00:00',\n",
       "               '2025-05-07 15:30:00', '2025-05-07 17:00:00'],\n",
       "              dtype='datetime64[ns]', freq='90T')"
      ]
     },
     "execution_count": 63,
     "metadata": {},
     "output_type": "execute_result"
    }
   ],
   "source": [
    "# 빈도 코드 조합\n",
    "pd.date_range('2025-05-07 09:30', periods=6, freq='1H30T')#특정 시간을 기준으로 시퀀스 생성성"
   ]
  },
  {
   "cell_type": "code",
   "execution_count": 65,
   "metadata": {},
   "outputs": [
    {
     "data": {
      "text/plain": [
       "Timestamp('2023-11-05 17:30:00')"
      ]
     },
     "execution_count": 65,
     "metadata": {},
     "output_type": "execute_result"
    }
   ],
   "source": [
    "# 오프셋\n",
    "from pandas.tseries.offsets import DateOffset #오프셋이라는 서브 모델까지 임포트 해야만 사용 가능\n",
    "ts = pd.Timestamp('2023-11-07 09:30:00')\n",
    "ts + DateOffset(hours=-40)"
   ]
  },
  {
   "cell_type": "code",
   "execution_count": 66,
   "metadata": {},
   "outputs": [
    {
     "data": {
      "text/plain": [
       "Timestamp('1950-06-25 04:20:00')"
      ]
     },
     "execution_count": 66,
     "metadata": {},
     "output_type": "execute_result"
    }
   ],
   "source": [
    "# 오프셋(minus)\n",
    "ts - DateOffset(years=73, months=4, days=12, hours=5, minutes=10, seconds=00)"
   ]
  },
  {
   "cell_type": "code",
   "execution_count": null,
   "metadata": {},
   "outputs": [],
   "source": []
  }
 ],
 "metadata": {
  "kernelspec": {
   "display_name": "base",
   "language": "python",
   "name": "python3"
  },
  "language_info": {
   "codemirror_mode": {
    "name": "ipython",
    "version": 3
   },
   "file_extension": ".py",
   "mimetype": "text/x-python",
   "name": "python",
   "nbconvert_exporter": "python",
   "pygments_lexer": "ipython3",
   "version": "3.11.7"
  }
 },
 "nbformat": 4,
 "nbformat_minor": 4
}
