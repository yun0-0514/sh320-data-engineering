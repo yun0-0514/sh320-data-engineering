{
 "cells": [
  {
   "cell_type": "markdown",
   "id": "9d06ad7f",
   "metadata": {},
   "source": [
    "## **1. 파이썬 컬렉션**\n",
    "1. 컬렉션 타입 소개\n",
    "2. 리스트"
   ]
  },
  {
   "cell_type": "markdown",
   "id": "0e665190",
   "metadata": {},
   "source": []
  },
  {
   "cell_type": "markdown",
   "id": "a9c17242",
   "metadata": {},
   "source": [
    "### <strong>1. 컬렉션 타입 소개</strong>\n",
    "collecton은 크게 두 종류로 나눠진다 \n",
    "\n",
    "+ Immutable Sequence 유형: Tuples, String\n",
    "+ Mutable Sequence 유형: Lists, Sets"
   ]
  },
  {
   "cell_type": "code",
   "execution_count": 1,
   "id": "24308f02",
   "metadata": {},
   "outputs": [
    {
     "data": {
      "text/plain": [
       "3"
      ]
     },
     "execution_count": 1,
     "metadata": {},
     "output_type": "execute_result"
    }
   ],
   "source": [
    "# [+] Tuple은 (value 1, value 2, ..., value n)와 같은 형식으로 선언\n",
    "# [+] Tuple은 List와 달리 값을 변경할 수 없음\n",
    "coordinate = (3,2) # Tuple 예: 좌표(3*2의 구성)\n",
    "coordinate[0]  # 셀 마지막 문장 실행 결과는 print() 상관없이 출력"
   ]
  },
  {
   "cell_type": "code",
   "execution_count": 2,
   "id": "cf5ac1a4",
   "metadata": {},
   "outputs": [],
   "source": [
    "# [+] Tuple은 값 변경이 불가능하다(immutable).\n",
    "##coordinate[0]=5 ##튜플은 값을 변경할 수 없음음\n"
   ]
  },
  {
   "cell_type": "code",
   "execution_count": 3,
   "id": "83881877",
   "metadata": {},
   "outputs": [
    {
     "data": {
      "text/plain": [
       "13"
      ]
     },
     "execution_count": 3,
     "metadata": {},
     "output_type": "execute_result"
    }
   ],
   "source": [
    "# String 선언 방식: \"문자열 내용\" 또는 '문자열 내용' 문자열 자동 슬라이싱 됨\n",
    "name = \"Yunyoung Park\"\n",
    "name\n",
    "len(name)"
   ]
  },
  {
   "cell_type": "code",
   "execution_count": 4,
   "id": "9da4b238",
   "metadata": {},
   "outputs": [
    {
     "data": {
      "text/plain": [
       "'Y'"
      ]
     },
     "execution_count": 4,
     "metadata": {},
     "output_type": "execute_result"
    }
   ],
   "source": [
    "# [+] String도 역시 immutable\n",
    "name[0]"
   ]
  },
  {
   "cell_type": "code",
   "execution_count": 5,
   "id": "12159fd2",
   "metadata": {},
   "outputs": [
    {
     "data": {
      "text/plain": [
       "['박윤영', 2001, '컴퓨터공학부']"
      ]
     },
     "execution_count": 5,
     "metadata": {},
     "output_type": "execute_result"
    }
   ],
   "source": [
    "# [+] List 선언 방식: [value 1, value 2, ..., value n]\n",
    "my_info_lst = ['박윤영',2001,'컴퓨터공학부'] # list 예: 개인정보\n",
    "my_info_lst"
   ]
  },
  {
   "cell_type": "code",
   "execution_count": 6,
   "id": "2243d73b",
   "metadata": {},
   "outputs": [
    {
     "data": {
      "text/plain": [
       "['JJoy Park', '컴퓨터공학부', True]"
      ]
     },
     "execution_count": 6,
     "metadata": {},
     "output_type": "execute_result"
    }
   ],
   "source": [
    "# [+] List는 값 변경(추가, 삭제, 수정)이 가능하다.\n",
    "my_info_lst[0]='JJoy Park'# 수정\n",
    "my_info_lst.append(True) # 추가 메소드 append 사용\n",
    "my_info_lst.remove(2001) # 삭제 메소드 remove()사용\n",
    "my_info_lst"
   ]
  },
  {
   "cell_type": "markdown",
   "id": "007299b3",
   "metadata": {},
   "source": [
    "### Set, List, Map의 차이점\n",
    "\n",
    "- **List**: 순서가 있으며, 데이터(값) 중복 허용\n",
    "- **Set**: 순서가 없으며, 데이터(값) 중복을 허용하지 않음\n",
    "- **Map**: Key&Value 구조, Key는 중복을 허용하지 않으며, Value(값)는 중복을 허용"
   ]
  },
  {
   "cell_type": "code",
   "execution_count": 7,
   "id": "989c1ff9",
   "metadata": {},
   "outputs": [
    {
     "data": {
      "text/plain": [
       "{'JJoy Park', True, '컴퓨터공학부'}"
      ]
     },
     "execution_count": 7,
     "metadata": {},
     "output_type": "execute_result"
    }
   ],
   "source": [
    "# [+] Set 선언 방식: set(List 객체)\n",
    "my_info_set = set(my_info_lst)\n",
    "my_info_set"
   ]
  },
  {
   "cell_type": "code",
   "execution_count": 8,
   "id": "a99cad2f-5163-4211-acb0-1169d52f69eb",
   "metadata": {},
   "outputs": [
    {
     "data": {
      "text/plain": [
       "{'JJoy Park', True, '컴퓨터공학부'}"
      ]
     },
     "execution_count": 8,
     "metadata": {},
     "output_type": "execute_result"
    }
   ],
   "source": [
    "# [+] Set은 중복 허용하지 않고, 순서가 없다,추가해도 안늘어남\n",
    "my_info_set.add('JJoy Park')\n",
    "my_info_set"
   ]
  },
  {
   "cell_type": "code",
   "execution_count": 9,
   "id": "2d9923d5",
   "metadata": {},
   "outputs": [
    {
     "data": {
      "text/plain": [
       "{'name': '박윤영', 'year': 2001, 'major': '컴퓨터공학부'}"
      ]
     },
     "execution_count": 9,
     "metadata": {},
     "output_type": "execute_result"
    }
   ],
   "source": [
    "# [+] Dictionary 선언 방식: {'key 1':'value 1', ..., 'key n': 'value n'}\n",
    "\n",
    "hsu_dict = {'name':'박윤영',\n",
    "            'year':2001,\n",
    "            'major':'컴퓨터공학부'}\n",
    "hsu_dict"
   ]
  },
  {
   "cell_type": "code",
   "execution_count": 10,
   "id": "bcbe58d5",
   "metadata": {},
   "outputs": [
    {
     "data": {
      "text/plain": [
       "{'name': '박윤영', 'year': 2001, 'major': '컴퓨터공학부', 'grade': 4}"
      ]
     },
     "execution_count": 10,
     "metadata": {},
     "output_type": "execute_result"
    }
   ],
   "source": [
    "# [+] Dictionary 값 추가\n",
    "hsu_dict['grade']=4\n",
    "hsu_dict"
   ]
  },
  {
   "cell_type": "markdown",
   "id": "8c019b9a",
   "metadata": {},
   "source": [
    "### <strong>2. 리스트</strong>"
   ]
  },
  {
   "cell_type": "code",
   "execution_count": 11,
   "id": "8864cc2c",
   "metadata": {},
   "outputs": [
    {
     "data": {
      "text/plain": [
       "[2, 3, 5, 7, 11, 13]"
      ]
     },
     "execution_count": 11,
     "metadata": {},
     "output_type": "execute_result"
    }
   ],
   "source": [
    "# [+] 리스트 선언\n",
    "primes = [2, 3, 5, 7, 11, 13]\n",
    "primes"
   ]
  },
  {
   "cell_type": "code",
   "execution_count": 12,
   "id": "c1a4665b",
   "metadata": {},
   "outputs": [
    {
     "data": {
      "text/plain": [
       "['Jenny', 1, 1.4, True]"
      ]
     },
     "execution_count": 12,
     "metadata": {},
     "output_type": "execute_result"
    }
   ],
   "source": [
    "# 다양한 유형의 데이터 저장\n",
    "mixed = ['Jenny', 1, 1.4, True]\n",
    "mixed"
   ]
  },
  {
   "cell_type": "code",
   "execution_count": 13,
   "id": "bef72de8-0bee-4a91-b5ae-92e8741a7d6a",
   "metadata": {},
   "outputs": [
    {
     "data": {
      "text/plain": [
       "[['a', 1], ['b', 2]]"
      ]
     },
     "execution_count": 13,
     "metadata": {},
     "output_type": "execute_result"
    }
   ],
   "source": [
    "# 다차원 리스트\n",
    "list_of_lists = [['a', 1], ['b', 2]]\n",
    "list_of_lists"
   ]
  },
  {
   "cell_type": "code",
   "execution_count": 14,
   "id": "f62d81cb",
   "metadata": {},
   "outputs": [
    {
     "name": "stdout",
     "output_type": "stream",
     "text": [
      "Roger\n",
      "Rafael\n",
      "Andy\n",
      "Novak\n"
     ]
    }
   ],
   "source": [
    "# Zero-indexing\n",
    "names = ['Roger', 'Rafael', 'Andy', 'Novak']\n",
    "\n",
    "print(names[0]) # first data\n",
    "print(names[1])\n",
    "print(names[2])\n",
    "print(names[3])"
   ]
  },
  {
   "cell_type": "code",
   "execution_count": 15,
   "id": "4665751a",
   "metadata": {},
   "outputs": [
    {
     "name": "stdout",
     "output_type": "stream",
     "text": [
      "Novak\n",
      "Andy\n",
      "Rafael\n",
      "Roger\n"
     ]
    }
   ],
   "source": [
    "# Negative indexing\n",
    "print(names[-1]) # last data\n",
    "print(names[-2]) # second to last data\n",
    "print(names[-3]) # third to last data\n",
    "print(names[-4])"
   ]
  },
  {
   "cell_type": "code",
   "execution_count": 16,
   "id": "a2258ff7",
   "metadata": {},
   "outputs": [
    {
     "data": {
      "text/plain": [
       "['장공관', '필헌관', '소통관']"
      ]
     },
     "execution_count": 16,
     "metadata": {},
     "output_type": "execute_result"
    }
   ],
   "source": [
    "# [+] 리스트 슬라이싱\n",
    "hsu_buildings = ['만우관', '장공관', '필헌관', '소통관', '송암관', '늦봄관', '장준하통일관']\n",
    "building_slice = hsu_buildings[1:4] # [장공관, 필헌관, 소통관] 선택\n",
    "building_slice"
   ]
  },
  {
   "cell_type": "code",
   "execution_count": 17,
   "id": "e287d5a0-cd12-4aad-88e0-2dc6a3ebe4b1",
   "metadata": {},
   "outputs": [
    {
     "name": "stdout",
     "output_type": "stream",
     "text": [
      "['생활관', '필헌관', '소통관']\n",
      "['만우관', '장공관', '필헌관', '소통관', '송암관', '늦봄관', '장준하통일관']\n"
     ]
    }
   ],
   "source": [
    "# [+] 슬라이스 값 수정\n",
    "building_slice[0] = '생활관'\n",
    "print(building_slice)\n",
    "print(hsu_buildings)"
   ]
  },
  {
   "cell_type": "code",
   "execution_count": 18,
   "id": "225c92c4",
   "metadata": {},
   "outputs": [
    {
     "data": {
      "text/plain": [
       "[['해우리', '한식', '고S'],\n",
       " ['효자동설렁탕', '한식', '양곰탕'],\n",
       " ['찌개동아리', '한식', '제육전골'],\n",
       " ['몽상', '양식', '매운크림리조또']]"
      ]
     },
     "execution_count": 18,
     "metadata": {},
     "output_type": "execute_result"
    }
   ],
   "source": [
    "# 다차원 리스트\n",
    "restaurants = [['해우리', '한식', '고S'], ['효자동설렁탕', '한식', '양곰탕'], \n",
    "               ['찌개동아리', '한식', '제육전골'], ['몽상', '양식', '매운크림리조또']]\n",
    "restaurants"
   ]
  },
  {
   "cell_type": "code",
   "execution_count": 19,
   "id": "0505b487-1d97-4139-8096-8a0ea19efc77",
   "metadata": {},
   "outputs": [
    {
     "data": {
      "text/plain": [
       "['해우리', '한식', '해우라면']"
      ]
     },
     "execution_count": 19,
     "metadata": {},
     "output_type": "execute_result"
    }
   ],
   "source": [
    "# [+] 리스트 수정 \n",
    "# 해우리의 대표 메뉴를 '고S'에서 '해우라면'으로 수정\n",
    "restaurants[0][2] = '해우라면'\n",
    "restaurants[0]"
   ]
  },
  {
   "cell_type": "code",
   "execution_count": 20,
   "id": "55c13f55",
   "metadata": {},
   "outputs": [
    {
     "data": {
      "text/plain": [
       "['cake', 'cookie', 'bread', 'biscuit', 'tart']"
      ]
     },
     "execution_count": 20,
     "metadata": {},
     "output_type": "execute_result"
    }
   ],
   "source": [
    "# [+] 리스트 병합하기\n",
    "items_one = ['cake', 'cookie', 'bread']\n",
    "items_two = ['biscuit', 'tart']\n",
    "\n",
    "total_items = items_one + items_two\n",
    "total_items"
   ]
  },
  {
   "cell_type": "markdown",
   "id": "ca8e1911-f431-4a13-8235-b4d92441d58a",
   "metadata": {},
   "source": [
    "#### <strong>리스트에서 제공하는 메소드들</strong>"
   ]
  },
  {
   "cell_type": "code",
   "execution_count": 39,
   "id": "9c1f3792",
   "metadata": {},
   "outputs": [
    {
     "data": {
      "text/plain": [
       "5"
      ]
     },
     "execution_count": 39,
     "metadata": {},
     "output_type": "execute_result"
    }
   ],
   "source": [
    "# [+] len()\n",
    "knapsack = [2, 4, 3, 7, 10]\n",
    "size = len(knapsack)\n",
    "size"
   ]
  },
  {
   "cell_type": "code",
   "execution_count": 42,
   "id": "69629dcc-995b-48ff-9c11-ae29732097dc",
   "metadata": {},
   "outputs": [],
   "source": [
    "# [+] append()->그냥 아이템 주르륵 추가\n",
    "orders = ['daisies', 'periwinkle']\n",
    "orders.append('rose')"
   ]
  },
  {
   "cell_type": "code",
   "execution_count": 43,
   "id": "0537c839-7fe7-4cda-81f2-ef22e09608ba",
   "metadata": {},
   "outputs": [],
   "source": [
    "# [+] insert(위치,값)\n",
    "store_line = ['Karla', 'Maxium', 'Martin', 'Isabella']\n",
    "store_line.insert(2, 'Vikor')"
   ]
  },
  {
   "cell_type": "code",
   "execution_count": null,
   "id": "ecc87e93-351b-4622-98ca-11522039339c",
   "metadata": {},
   "outputs": [],
   "source": [
    "# [+] sort()\n",
    "numbers = [4, 2, 1, 3]\n",
    "...\n",
    "numbers"
   ]
  },
  {
   "cell_type": "code",
   "execution_count": null,
   "id": "0e917b86-1187-490a-882f-ca60e3d5829f",
   "metadata": {},
   "outputs": [],
   "source": [
    "# [+] sorted()\n",
    "hsu_buildings = ['만우관', '장공관', '필헌관', '소통관', '송암관', '늦봄관', '장준하통일관']\n",
    "print(...)\n",
    "print(hsu_buildings)"
   ]
  }
 ],
 "metadata": {
  "kernelspec": {
   "display_name": "base",
   "language": "python",
   "name": "python3"
  },
  "language_info": {
   "codemirror_mode": {
    "name": "ipython",
    "version": 3
   },
   "file_extension": ".py",
   "mimetype": "text/x-python",
   "name": "python",
   "nbconvert_exporter": "python",
   "pygments_lexer": "ipython3",
   "version": "3.11.7"
  }
 },
 "nbformat": 4,
 "nbformat_minor": 5
}
