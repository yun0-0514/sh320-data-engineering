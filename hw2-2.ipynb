{
 "cells": [
  {
   "cell_type": "markdown",
   "id": "4fa5cf89",
   "metadata": {},
   "source": [
    "# 과제2: Gradebook\n",
    "### 202058128 박윤영"
   ]
  },
  {
   "cell_type": "code",
   "execution_count": 3,
   "id": "4afcdd3c",
   "metadata": {},
   "outputs": [],
   "source": [
    "subjects=[\"physics\",\"calculus\",\"poetry\",\"history\"]\n",
    "grades=[98,97,85,88]"
   ]
  },
  {
   "cell_type": "code",
   "execution_count": 8,
   "id": "79b20d6a",
   "metadata": {},
   "outputs": [],
   "source": [
    "gradebook = [\n",
    "    [\"physics\", 98],\n",
    "    [\"calculus\", 97],\n",
    "    [\"poetry\", 85],\n",
    "    [\"history\", 88]\n",
    "]\n"
   ]
  },
  {
   "cell_type": "code",
   "execution_count": 10,
   "id": "6d6c1421",
   "metadata": {},
   "outputs": [],
   "source": [
    "gradebook.append([\"computer science\", 100])\n",
    "gradebook.append([\"visual arts\", 93])\n"
   ]
  },
  {
   "cell_type": "code",
   "execution_count": null,
   "id": "69265ff7",
   "metadata": {},
   "outputs": [],
   "source": [
    "gradebook[5][1] = gradebook[5][1] + 5\n",
    "gradebook[2].remove(85)\n",
    "gradebook[2].append(\"Pass\")"
   ]
  },
  {
   "cell_type": "code",
   "execution_count": 13,
   "id": "c334aca3",
   "metadata": {},
   "outputs": [
    {
     "name": "stdout",
     "output_type": "stream",
     "text": [
      "[['politics', 80], ['latin', 96], ['dance', 97], ['architecture', 65], ['politics', 80], ['latin', 96], ['dance', 97], ['architecture', 65], ['physics', 98], ['calculus', 97], ['poetry', 85], ['history', 88], ['computer science', 100], ['visual arts', 98], ['computer science', 100], ['visual arts', 93]]\n"
     ]
    }
   ],
   "source": [
    "last_semester_gradebook = [[\"politics\", 80], [\"latin\", 96], [\"dance\", 97], [\"architecture\", 65]]\n",
    "gradebook = last_semester_gradebook + gradebook\n",
    "print(gradebook)"
   ]
  }
 ],
 "metadata": {
  "kernelspec": {
   "display_name": "base",
   "language": "python",
   "name": "python3"
  },
  "language_info": {
   "codemirror_mode": {
    "name": "ipython",
    "version": 3
   },
   "file_extension": ".py",
   "mimetype": "text/x-python",
   "name": "python",
   "nbconvert_exporter": "python",
   "pygments_lexer": "ipython3",
   "version": "3.11.7"
  }
 },
 "nbformat": 4,
 "nbformat_minor": 5
}
