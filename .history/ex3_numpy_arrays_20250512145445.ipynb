{
 "cells": [
  {
   "cell_type": "markdown",
   "metadata": {},
   "source": [

    "## <strong>3. NumPy 배열</strong>\n",
    "20205812 8박윤영"

   ]
  },
  {
   "cell_type": "markdown",
   "metadata": {},
   "source": [
    "작은 꿀팁 !을 붙이지 않은 경우 pip명령어 말고 다른 코드가 더 있는 경우 에러난다함 (아마도)"
   ]
  },
  {
   "cell_type": "code",
   "execution_count": 1,
   "metadata": {},
   "outputs": [
    {
     "name": "stdout",
     "output_type": "stream",
     "text": [
      "Requirement already satisfied: numpy in c:\\users\\yun\\anaconda3\\lib\\site-packages (1.26.4)\n"
     ]
    }
   ],
   "source": [
    "# Python 패키지 설치 명령어\n",
    "!pip install numpy"
   ]
  },
  {
   "cell_type": "code",

   "execution_count": 1,

   "metadata": {},
   "outputs": [],
   "source": [
    "# NumPy 불러오기\n",
    "import numpy as np"
   ]
  },
  {
<<<<<<< HEAD
   "cell_type": "code",
   "execution_count": 6,
   "metadata": {},
   "outputs": [
    {
     "name": "stdout",
     "output_type": "stream",
     "text": [
      "*\n",
      "**\n",
      "***\n",
      "****\n",
      "*****\n"
     ]
    }
   ],
   "source": [
    "n = 5\n",
    "for i in range(n):\n",
    "    print('*' * (i + 1))"
   ]
  },
  {
   "cell_type": "code",
   "execution_count": null,
   "metadata": {},
   "outputs": [
    {
     "ename": "TypeError",
     "evalue": "unsupported operand type(s) for -: 'list' and 'int'",
     "output_type": "error",
     "traceback": [
      "\u001b[1;31m---------------------------------------------------------------------------\u001b[0m",
      "\u001b[1;31mTypeError\u001b[0m                                 Traceback (most recent call last)",
      "Cell \u001b[1;32mIn[7], line 2\u001b[0m\n\u001b[0;32m      1\u001b[0m prices \u001b[38;5;241m=\u001b[39m [\u001b[38;5;241m30\u001b[39m, \u001b[38;5;241m25\u001b[39m, \u001b[38;5;241m40\u001b[39m, \u001b[38;5;241m20\u001b[39m, \u001b[38;5;241m20\u001b[39m, \u001b[38;5;241m35\u001b[39m, \u001b[38;5;241m50\u001b[39m, \u001b[38;5;241m35\u001b[39m]\n\u001b[1;32m----> 2\u001b[0m prices\u001b[38;5;241m-\u001b[39m\u001b[38;5;241m5\u001b[39m\n\u001b[0;32m      4\u001b[0m \u001b[38;5;28mprint\u001b[39m(new_prices)\n",
      "\u001b[1;31mTypeError\u001b[0m: unsupported operand type(s) for -: 'list' and 'int'"
     ]
    }
   ],
   "source": []
  },
  {
=======
>>>>>>> 46e0832c746742b798d7017f8837990322840b69
   "cell_type": "markdown",
   "metadata": {},
   "source": [
    "### <strong>3.1 NumPy 배열 생성"
   ]
  },
  {
   "cell_type": "markdown",
   "metadata": {},
   "source": [
    "### 리스트 객체로부터 ndarray 객체 생성\n"
   ]
  },
  {
   "cell_type": "code",
   "execution_count": 4,
   "metadata": {},
   "outputs": [
    {
     "data": {
      "text/plain": [
       "array([1, 2, 3, 4, 5, 6])"
      ]
     },
     "execution_count": 4,
     "metadata": {},
     "output_type": "execute_result"
    }
   ],
   "source": [
    "my_lst = [1,2,3,4,5,6]##파이썬 리스트 생성\n",
    "my_arr = np.array(my_lst)##생성된 리스트를 넘파이 배열로 변환하여 반환\n",
    "\n",
    "my_arr"
   ]
  },
  {
   "cell_type": "code",
   "execution_count": 5,
   "metadata": {},
   "outputs": [
    {
     "data": {
      "text/plain": [
       "array([1, 2, 3, 4, 5, 6])"
      ]
     },
     "execution_count": 5,
     "metadata": {},
     "output_type": "execute_result"
    }
   ],
   "source": [
    "# [+] 리스트/NumPy 배열 동시에 생성\n",
    "np.array([1,2,3,4,5,6])"
   ]
  },
  {
   "cell_type": "markdown",
   "metadata": {},
   "source": [
    "#### **리스트 컴프리헨션 vs NumPy 배열**"
   ]
  },
  {
   "cell_type": "code",
   "execution_count": 6,
   "metadata": {},
   "outputs": [
    {
     "data": {
      "text/plain": [
       "[15, 35, 30, 5, 20, 51]"
      ]
     },
     "execution_count": 6,
     "metadata": {},
     "output_type": "execute_result"
    }
   ],
   "source": [
    "# [+] 리스트 컴프리헨션을 이용하여 5달러씩 가격을 일괄적으로 할인하기\n",
    "prices = [20, 40, 35, 10, 25, 56]\n",
    "new_prices = [price - 5 for price in prices]\n",
    "\n",
    "new_prices"
   ]
  },
  {
   "cell_type": "code",
   "execution_count": 10,
   "metadata": {},
   "outputs": [
    {
     "data": {
      "text/plain": [
       "array([15, 35, 30,  5, 20, 51])"
      ]
     },
     "execution_count": 10,
     "metadata": {},
     "output_type": "execute_result"
    }
   ],
   "source": [
    "# [+] NumPy 배열의 연산을 통한 5달러씩 가격을 일괄적으로 할인하기\n",
    "prices_arr = np.array(prices)  # 배열 생성\n",
    "prices_arr = prices_arr - 5  # 가격 수정\n",
    "\n",
    "prices_arr"
   ]
  },
  {
   "cell_type": "markdown",
   "metadata": {},
   "source": [
    "#### **예제: 시험 점수 처리**"
   ]
  },
  {
   "cell_type": "code",
   "execution_count": 12,
   "metadata": {},
   "outputs": [],
   "source": [
    "# 세 번의 시험에 대한 점수를 NumPy 배열로 선언\n",
    "test_1 = np.array([92, 94, 88, 91, 87])\n",
    "test_2 = np.array([79, 100, 86, 93, 91])\n",
    "test_3 = np.array([87, 85, 72, 90, 92])"
   ]
  },
  {
   "cell_type": "code",
   "execution_count": 13,
   "metadata": {},
   "outputs": [
    {
     "data": {
      "text/plain": [
       "array([89, 87, 74, 92, 94])"
      ]
     },
     "execution_count": 13,
     "metadata": {},
     "output_type": "execute_result"
    }
   ],
   "source": [
    "# [+] 세 번째 시험에 2점씩 더하기\n",
    "test_3_fixed = test_3 + 2\n",
    "\n",
    "test_3_fixed"
   ]
  },
  {
   "cell_type": "code",
   "execution_count": 14,
   "metadata": {},
   "outputs": [
    {
     "data": {
      "text/plain": [
       "array([260, 281, 248, 276, 272])"
      ]
     },
     "execution_count": 14,
     "metadata": {},
     "output_type": "execute_result"
    }
   ],
   "source": [
    "# [+] 학생 별 전체 시험 점수 총합 계산 \n",
    "total_grade = test_1 + test_2 + test_3_fixed\n",
    "\n",
    "total_grade"
   ]
  },
  {
   "cell_type": "code",
   "execution_count": 15,
   "metadata": {},
   "outputs": [
    {
     "data": {
      "text/plain": [
       "array([86.66666667, 93.66666667, 82.66666667, 92.        , 90.66666667])"
      ]
     },
     "execution_count": 15,
     "metadata": {},
     "output_type": "execute_result"
    }
   ],
   "source": [
    "# [+] 학생 별 평균 시험 점수 계산\n",
    "final_grade = total_grade / 3\n",
    "\n",
    "final_grade"
   ]
  },
  {
   "cell_type": "code",
   "execution_count": 17,
   "metadata": {},
   "outputs": [
    {
     "data": {
      "text/plain": [
       "100"
      ]
     },
     "execution_count": 17,
     "metadata": {},
     "output_type": "execute_result"
    }
   ],
   "source": [
    "# [+] 인덱싱: Jeremy의 두 번째 시험 점수\n",
    "jeremy_test_2 = test_2[1]\n",
    "\n",
    "jeremy_test_2"
   ]
  },
  {
   "cell_type": "code",
   "execution_count": 19,
   "metadata": {},
   "outputs": [
    {
     "data": {
      "text/plain": [
       "array([94, 88])"
      ]
     },
     "execution_count": 19,
     "metadata": {},
     "output_type": "execute_result"
    }
   ],
   "source": [
    "# [+] Manual과 Adwoa의 첫 번째 시험 점수\n",
    "manual_adwoa_test_1 = test_1[1:3]\n",
    "\n",
    "manual_adwoa_test_1"
   ]
  },
  {
   "cell_type": "code",
   "execution_count": 33,
   "metadata": {},
   "outputs": [
    {
     "data": {
      "text/plain": [
       "array([[ 92,  94,  88,  91,  87],\n",
       "       [ 79, 100,  86,  93,  91],\n",
       "       [ 89,  87,  74,  92,  94]])"
      ]
     },
     "execution_count": 33,
     "metadata": {},
     "output_type": "execute_result"
    }
   ],
   "source": [
    "# [+] 전체 학생들의 점수를 2차원 배열에 저장\n",
    "student_scores = np.array([test_1, test_2, test_3_fixed])\n",
    "\n",
    "student_scores"
   ]
  },
  {
   "cell_type": "code",
   "execution_count": 38,
   "metadata": {},
   "outputs": [
    {
     "data": {
      "text/plain": [
       "array([[91, 87]])"
      ]
     },
     "execution_count": 38,
     "metadata": {},
     "output_type": "execute_result"
    }
   ],
   "source": [
    "# [+] 2차원 배열 인덱싱: Tanya의 세 번째 시험 점수\n",
    "tanya_test_3 = student_scores[:1,3:]\n",
    "tanya_test_3"
   ]
  },
  {
   "cell_type": "code",
   "execution_count": 35,
   "metadata": {},
   "outputs": [
    {
     "data": {
      "text/plain": [
       "array([87, 91, 94])"
      ]
     },
     "execution_count": 35,
     "metadata": {},
     "output_type": "execute_result"
    }
   ],
   "source": [
    "# [+] 2차원 배열 슬라이싱: Cody의 전체 시험 점수\n",
    "code_test = student_scores[0:,4]\n",
    "code_test"
   ]
  },
  {
   "cell_type": "code",
   "execution_count": 32,
   "metadata": {},
   "outputs": [],
   "source": [
    "test_test = student_scores[2:,:2]"
   ]
  },
  {
   "cell_type": "markdown",
   "metadata": {},
   "source": [
    "#### **배열 원소 단위의 논리 연산**"
   ]
  },
  {
   "cell_type": "code",
   "execution_count": null,
   "metadata": {},
   "outputs": [
    {
     "data": {
      "text/plain": [
       "array([False,  True, False, False,  True,  True, False,  True])"
      ]
     },
     "execution_count": 3,
     "metadata": {},
     "output_type": "execute_result"
    }
   ],
   "source": [
    "a = np.array([1, 20, 4, 6, 28, 88, 7, 12])\n",
    "\n",
    "# [+] 10 이상 여부를 마스킹->논리값 반환\n",
    "mask = a>10 \n",
    "\n",
    "mask"
   ]
  },
  {
   "cell_type": "code",
   "execution_count": null,
   "metadata": {},
   "outputs": [
    {
     "data": {
      "text/plain": [
       "array([20, 28, 88, 12])"
      ]
     },
     "execution_count": 4,
     "metadata": {},
     "output_type": "execute_result"
    }
   ],
   "source": [
    "# [+] 논리 연산을 이용하여 부분집합 구하기->논리값을 이용해 조건에 맞는 값을 걸러냄냄\n",
    "selected = a[a>10]\n",
    "\n",
    "selected"
   ]
  },
  {
   "cell_type": "code",
   "execution_count": 5,
   "metadata": {},
   "outputs": [
    {
     "data": {
      "text/plain": [
       "array([ 1, 20,  4, 28, 88, 12])"
      ]
     },
     "execution_count": 5,
     "metadata": {},
     "output_type": "execute_result"
    }
   ],
   "source": [
    "# [+] 논리식 결합: 논리합\n",
    "selected = a[(a>10) | (a<5)]\n",
    "\n",
    "selected"
   ]
  },
  {
   "cell_type": "code",
   "execution_count": 6,
   "metadata": {},
   "outputs": [
    {
     "data": {
      "text/plain": [
       "array([12])"
      ]
     },
     "execution_count": 6,
     "metadata": {},
     "output_type": "execute_result"
    }
   ],
   "source": [
    "# [+] 논리식 결합: 논리곱\n",
    "selected = a[(a>10) & (a<20)]\n",
    "\n",
    "selected"
   ]
  },
  {
   "cell_type": "markdown",
   "metadata": {},
   "source": [
<<<<<<< HEAD
=======
    "포리지 과제"
   ]
  },
  {
   "cell_type": "code",
   "execution_count": 7,
   "metadata": {},
   "outputs": [],
   "source": [
    "porridge = np.array([79, 65, 50, 63, 56, 90, 85, 98, 79, 51])"
   ]
  },
  {
   "cell_type": "markdown",
   "metadata": {},
   "source": [
>>>>>>> 46e0832c746742b798d7017f8837990322840b69
    "배열 생성 예제"
   ]
  },
  {
   "cell_type": "code",
   "execution_count": 8,
   "metadata": {},
   "outputs": [
    {
     "data": {
      "text/plain": [
       "array([0, 1, 2, 3, 4, 5, 6, 7, 8, 9])"
      ]
     },
     "execution_count": 8,
     "metadata": {},
     "output_type": "execute_result"
    }
   ],
   "source": [
    "# [+] 정수 배열 생성, arange(stop) 지정을 안하면0부터 Stop까지\n",
    "np.arange(10)"
   ]
  },
  {
   "cell_type": "code",
   "execution_count": 11,
   "metadata": {},
   "outputs": [
    {
     "data": {
      "text/plain": [
       "array([ 3,  4,  5,  6,  7,  8,  9, 10, 11, 12, 13, 14, 15, 16, 17, 18, 19])"
      ]
     },
     "execution_count": 11,
     "metadata": {},
     "output_type": "execute_result"
    }
   ],
   "source": [
    "# [+] 정수 배열 생성, arange(start, stop)\n",
    "np.arange(3,20)"
   ]
  },
  {
   "cell_type": "code",
   "execution_count": 14,
   "metadata": {},
   "outputs": [
    {
     "data": {
      "text/plain": [
       "array([  0,  10,  20,  30,  40,  50,  60,  70,  80,  90, 100])"
      ]
     },
     "execution_count": 14,
     "metadata": {},
     "output_type": "execute_result"
    }
   ],
   "source": [
    "# [+] 정수 배열 생성, arange(start, stop, interval)->3개의 인자를 넣는 경우 간격을 설정하 수 있음\n",
    "np.arange(0,101,10)"
   ]
  },
  {
   "cell_type": "code",
   "execution_count": 17,
   "metadata": {},
   "outputs": [
    {
     "data": {
      "text/plain": [
       "array([[5, 0, 3, 3, 7],\n",
       "       [9, 3, 5, 2, 4],\n",
       "       [7, 6, 8, 8, 1]])"
      ]
     },
     "execution_count": 17,
     "metadata": {},
     "output_type": "execute_result"
    }
   ],
   "source": [
    "# [+] 난수 배열 생성 np.random을 사용\n",
    "np.random.seed(0)  # 난수 생성 시드 고정\n",
    "##randint(low, high, size)->low부터 high까지의 정수를 size만큼 생성 이떄 size를 통해서 다차원배열을 생성할 수 있음\n",
    "arr = np.random.randint(10, size=(3,5))  \n",
    "arr"
   ]
  },
  {
   "cell_type": "markdown",
   "metadata": {},
   "source": [
    "### <strong>배열 조작 연산</strong>"
   ]
  },
  {
   "cell_type": "code",
   "execution_count": 20,
   "metadata": {},
   "outputs": [
    {
     "name": "stdout",
     "output_type": "stream",
     "text": [
      "2\n",
      "(3, 5)\n",
      "15\n",
      "int32\n",
      "4\n",
      "60\n"
     ]
    }
   ],
   "source": [
    "# [+] 배열 속성\n",
    "print(arr.ndim)     # 차원 수\n",
    "print(arr.shape)    # 형상\n",
    "print(arr.size)     # 크기=원소의 수\n",
    "print(arr.dtype)    # 데이터 타입\n",
    "print(arr.itemsize)  # 원소별 메모리 크기(bytes)\n",
    "print(arr.nbytes)   # 전체 메모리 크기"
   ]
  },
  {
   "cell_type": "code",
   "execution_count": null,
   "metadata": {},
   "outputs": [],
   "source": [
    "# [+] 배열 슬라이싱\n",
    "arr = np.arange(10)\n",
    "print(arr)\n",
    "\n",
    "print(arr[3:7]) # 슬라이싱(start:stop)\n",
    "print(arr[:5]) # 시작 인덱스 생략(:stop)\n",
    "print(arr[5:]) # 종료 인덱스 생략(start:)\n",
    "print(arr[::3]) # 간격(::interval)\n",
    "print(arr[2:8:2]) # 슬라이싱(start:stop:interval)"
   ]
  },
  {
   "cell_type": "code",
   "execution_count": null,
   "metadata": {},
   "outputs": [],
   "source": [
    "# 난수 배열 생성\n",
    "np.random.seed(0) \n",
    "arr = np.random.randint(10, size=(6, 8)) \n",
    "\n",
    "arr"
   ]
  },
  {
   "cell_type": "code",
   "execution_count": null,
   "metadata": {},
   "outputs": [],
   "source": [
    "# [+] 다차원 배열 슬라이싱\n",
    "arr[3:5, 4:7]"
   ]
  },
  {
   "cell_type": "code",
   "execution_count": 24,
   "metadata": {},
   "outputs": [
    {
     "name": "stdout",
     "output_type": "stream",
     "text": [
      "[[99  0]\n",
      " [ 9  3]]\n",
      "[[99  0]\n",
      " [ 9  3]]\n",
      "[[99  0  3  3  7]\n",
      " [ 9  3  5  2  4]\n",
      " [ 7  6  8  8  1]]\n"
     ]
    }
   ],
   "source": [
    "# 배열 슬라이스 = 뷰(view) 넘파이에선 배열 슬라이스를 통해 원본 배열의 일부를 참조할 수 있음, 뷰가 필요할땐 np.copy()를 사용\n",
    "arr_sub = arr[:2, :2]\n",
    "print(arr_sub)\n",
    "\n",
    "arr_sub[0, 0] = 99\n",
    "print(arr_sub)\n",
    "\n",
    "print(arr)"
   ]
  },
  {
   "cell_type": "code",
   "execution_count": null,
   "metadata": {},
   "outputs": [],
   "source": [
    "# 배열 복사본 생성\n",
    "arr_sub = arr[:2, :2].copy()\n",
    "\n",
    "arr_sub[0, 0] = 50\n",
    "print(arr_sub)\n",
    "\n",
    "print(arr)"
   ]
  },
  {
   "cell_type": "code",
   "execution_count": 27,
   "metadata": {},
   "outputs": [
    {
     "name": "stdout",
     "output_type": "stream",
     "text": [
      "[0 1 2 3 4 5 6 7 8 9]\n",
      "(10,)\n",
      "[[0 1 2 3 4]\n",
      " [5 6 7 8 9]]\n",
      "(2, 5)\n"
     ]
    }
   ],
   "source": [
    "# [+] 배열 재구조화: reshape()\n",
    "x = np.arange(0,10) # 0~9로 이루어진 배열 생성 (10,)\n",
    "print(x)\n",
    "print(x.shape)\n",
    "\n",
    "x_reshaped = x.reshape(2,5) # 배열을 2X5 형상으로 재구조화\n",
    "print(x_reshaped)\n",
    "print(x_reshaped.shape)"
   ]
  },
  {
   "cell_type": "code",
   "execution_count": 30,
   "metadata": {},
   "outputs": [
    {
     "name": "stdout",
     "output_type": "stream",
     "text": [
      "[[0]\n",
      " [1]\n",
      " [2]]\n",
      "(3, 1)\n"
     ]
    }
   ],
   "source": [
    "# [+] 배열 재구조화: 차원 추가(np.newaxis)\n",
    "arr = np.arange(3)\n",
    "arr_new = arr[np.newaxis,:] # 1차원 배열을 2차원 배열로 변환????->행 차원증가\n",
    "arr_new = arr[:,np.newaxis] #열 차원증가\n",
    "print(arr_new)\n",
    "print(arr_new.shape)"
   ]
  },
  {
   "cell_type": "markdown",
   "metadata": {},
   "source": [
    "#### <strong> 배열 연결하기</strong>"
   ]
  },
  {
   "cell_type": "code",
   "execution_count": 31,
   "metadata": {},
   "outputs": [
    {
     "name": "stdout",
     "output_type": "stream",
     "text": [
      "[1 2 3] [4 5 6] [7 8 9]\n"
     ]
    }
   ],
   "source": [
    "# 세 개의 배열 생성\n",
    "arr_1 = np.arange(1, 4)\n",
    "arr_2 = np.arange(4, 7)\n",
    "arr_3 = np.arange(7, 10)\n",
    "\n",
    "print(arr_1, arr_2, arr_3)"
   ]
  },
  {
   "cell_type": "code",
   "execution_count": 32,
   "metadata": {},
   "outputs": [
    {
     "data": {
      "text/plain": [
       "array([1, 2, 3, 4, 5, 6, 7, 8, 9])"
      ]
     },
     "execution_count": 32,
     "metadata": {},
     "output_type": "execute_result"
    }
   ],
   "source": [
    "# [+] 배열 연결: np.concatenate()->열따라서 붙여버림\n",
    "np.concatenate([arr_1, arr_2, arr_3])"
   ]
  },
  {
   "cell_type": "code",
   "execution_count": 33,
   "metadata": {},
   "outputs": [
    {
     "data": {
      "text/plain": [
       "array([1, 2, 3, 4, 5, 6, 7, 8, 9])"
      ]
     },
     "execution_count": 33,
     "metadata": {},
     "output_type": "execute_result"
    }
   ],
   "source": [
    "# [+] 배열 연결: 종연결 \n",
    "np.concatenate([arr_1, arr_2, arr_3], axis=0) # axis=0: 행 방향 연결"
   ]
  },
  {
   "cell_type": "code",
   "execution_count": 35,
   "metadata": {},
   "outputs": [
    {
     "data": {
      "text/plain": [
       "array([1, 2, 3, 4, 5, 6, 7, 8, 9])"
      ]
     },
     "execution_count": 35,
     "metadata": {},
     "output_type": "execute_result"
    }
   ],
   "source": [
    "# 배열 연결: 횡연결\n",
    "np.hstack([arr_1, arr_2, arr_3])"
   ]
  },
  {
   "cell_type": "markdown",
   "metadata": {},
   "source": [
<<<<<<< HEAD
    "hsatck과 concatenate의 차이점 알기"
=======
    "hsatck과 concatenate의 차이점 알기 밑에 적어보셈"
>>>>>>> 46e0832c746742b798d7017f8837990322840b69
   ]
  },
  {
   "cell_type": "code",
   "execution_count": 36,
   "metadata": {},
   "outputs": [
    {
     "name": "stdout",
     "output_type": "stream",
     "text": [
      "[1, 2, 3, 99, 99, 3, 2, 1]\n",
      "[1 2 3] [99 99] [3 2 1]\n"
     ]
    }
   ],
   "source": [
    "arr = [1, 2, 3, 99, 99, 3, 2, 1]\n",
    "print(arr)\n",
    "\n",
    "# [+] 배열 분할 [1,2,3], [99,99], [3,2,1] 분할을 영어로 ->split\n",
    "arr_1, arr_2, arr_3 = np.split(arr, [3, 5])\n",
    "print(arr_1, arr_2, arr_3)"
   ]
  }
 ],
 "metadata": {
  "kernelspec": {
   "display_name": "base",
   "language": "python",
   "name": "python3"
  },
  "language_info": {
   "codemirror_mode": {
    "name": "ipython",
    "version": 3
   },
   "file_extension": ".py",
   "mimetype": "text/x-python",
   "name": "python",
   "nbconvert_exporter": "python",
   "pygments_lexer": "ipython3",
   "version": "3.11.7"
  }
 },
 "nbformat": 4,
 "nbformat_minor": 4
}
