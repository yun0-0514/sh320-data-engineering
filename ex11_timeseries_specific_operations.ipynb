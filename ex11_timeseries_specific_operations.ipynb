{
 "cells": [
  {
   "cell_type": "markdown",
   "id": "409439e8-8808-45ee-b006-7ebc51a8081a",
   "metadata": {},
   "source": [
    "## <strong> 13. 시계열 전용 연산"
   ]
  },
  {
   "cell_type": "markdown",
   "id": "4e54456e-2706-4dd2-9355-f59dc8f74824",
   "metadata": {},
   "source": [
    "필요한 라이브러리: ```yfinance```, ```pandas_datareader```"
   ]
  },
  {
   "cell_type": "code",
   "execution_count": 3,
   "id": "a25d88aa-8c6c-49be-a829-0b5f7a439c4d",
   "metadata": {},
   "outputs": [
    {
     "name": "stdout",
     "output_type": "stream",
     "text": [
      "Requirement already satisfied: yfinance in c:\\users\\yun\\anaconda3\\lib\\site-packages (0.2.60)\n",
      "Requirement already satisfied: pandas>=1.3.0 in c:\\users\\yun\\anaconda3\\lib\\site-packages (from yfinance) (2.1.4)\n",
      "Requirement already satisfied: numpy>=1.16.5 in c:\\users\\yun\\anaconda3\\lib\\site-packages (from yfinance) (1.26.4)\n",
      "Requirement already satisfied: requests>=2.31 in c:\\users\\yun\\anaconda3\\lib\\site-packages (from yfinance) (2.31.0)\n",
      "Requirement already satisfied: multitasking>=0.0.7 in c:\\users\\yun\\anaconda3\\lib\\site-packages (from yfinance) (0.0.11)\n",
      "Requirement already satisfied: platformdirs>=2.0.0 in c:\\users\\yun\\anaconda3\\lib\\site-packages (from yfinance) (3.10.0)\n",
      "Requirement already satisfied: pytz>=2022.5 in c:\\users\\yun\\anaconda3\\lib\\site-packages (from yfinance) (2023.3.post1)\n",
      "Requirement already satisfied: frozendict>=2.3.4 in c:\\users\\yun\\anaconda3\\lib\\site-packages (from yfinance) (2.4.2)\n",
      "Requirement already satisfied: peewee>=3.16.2 in c:\\users\\yun\\anaconda3\\lib\\site-packages (from yfinance) (3.18.1)\n",
      "Requirement already satisfied: beautifulsoup4>=4.11.1 in c:\\users\\yun\\anaconda3\\lib\\site-packages (from yfinance) (4.12.2)\n",
      "Requirement already satisfied: curl_cffi>=0.7 in c:\\users\\yun\\anaconda3\\lib\\site-packages (from yfinance) (0.10.0)\n",
      "Requirement already satisfied: protobuf>=3.19.0 in c:\\users\\yun\\anaconda3\\lib\\site-packages (from yfinance) (3.20.3)\n",
      "Requirement already satisfied: websockets>=13.0 in c:\\users\\yun\\anaconda3\\lib\\site-packages (from yfinance) (15.0.1)\n",
      "Requirement already satisfied: soupsieve>1.2 in c:\\users\\yun\\anaconda3\\lib\\site-packages (from beautifulsoup4>=4.11.1->yfinance) (2.5)\n",
      "Requirement already satisfied: cffi>=1.12.0 in c:\\users\\yun\\anaconda3\\lib\\site-packages (from curl_cffi>=0.7->yfinance) (1.16.0)\n",
      "Requirement already satisfied: certifi>=2024.2.2 in c:\\users\\yun\\anaconda3\\lib\\site-packages (from curl_cffi>=0.7->yfinance) (2025.1.31)\n",
      "Requirement already satisfied: python-dateutil>=2.8.2 in c:\\users\\yun\\anaconda3\\lib\\site-packages (from pandas>=1.3.0->yfinance) (2.8.2)\n",
      "Requirement already satisfied: tzdata>=2022.1 in c:\\users\\yun\\anaconda3\\lib\\site-packages (from pandas>=1.3.0->yfinance) (2023.3)\n",
      "Requirement already satisfied: charset-normalizer<4,>=2 in c:\\users\\yun\\anaconda3\\lib\\site-packages (from requests>=2.31->yfinance) (2.0.4)\n",
      "Requirement already satisfied: idna<4,>=2.5 in c:\\users\\yun\\anaconda3\\lib\\site-packages (from requests>=2.31->yfinance) (3.4)\n",
      "Requirement already satisfied: urllib3<3,>=1.21.1 in c:\\users\\yun\\anaconda3\\lib\\site-packages (from requests>=2.31->yfinance) (2.0.7)\n",
      "Requirement already satisfied: pycparser in c:\\users\\yun\\anaconda3\\lib\\site-packages (from cffi>=1.12.0->curl_cffi>=0.7->yfinance) (2.21)\n",
      "Requirement already satisfied: six>=1.5 in c:\\users\\yun\\anaconda3\\lib\\site-packages (from python-dateutil>=2.8.2->pandas>=1.3.0->yfinance) (1.16.0)\n"
     ]
    }
   ],
   "source": [
    "!pip install yfinance"
   ]
  },
  {
   "cell_type": "code",
   "execution_count": 4,
   "id": "680d1585-9262-4cf1-afd8-3f73d4c00195",
   "metadata": {},
   "outputs": [],
   "source": [
    "import yfinance as yf\n",
    "import pandas as pd\n",
    "from matplotlib import pyplot as plt"
   ]
  },
  {
   "cell_type": "code",
   "execution_count": 5,
   "id": "84e68b10-62ad-40c7-ba78-44df51a44335",
   "metadata": {},
   "outputs": [
    {
     "name": "stdout",
     "output_type": "stream",
     "text": [
      "YF.download() has changed argument auto_adjust default to True\n"
     ]
    },
    {
     "name": "stderr",
     "output_type": "stream",
     "text": [
      "[*********************100%***********************]  1 of 1 completed\n"
     ]
    },
    {
     "data": {
      "text/html": [
       "<div>\n",
       "<style scoped>\n",
       "    .dataframe tbody tr th:only-of-type {\n",
       "        vertical-align: middle;\n",
       "    }\n",
       "\n",
       "    .dataframe tbody tr th {\n",
       "        vertical-align: top;\n",
       "    }\n",
       "\n",
       "    .dataframe thead tr th {\n",
       "        text-align: left;\n",
       "    }\n",
       "\n",
       "    .dataframe thead tr:last-of-type th {\n",
       "        text-align: right;\n",
       "    }\n",
       "</style>\n",
       "<table border=\"1\" class=\"dataframe\">\n",
       "  <thead>\n",
       "    <tr>\n",
       "      <th>Price</th>\n",
       "      <th>Close</th>\n",
       "      <th>High</th>\n",
       "      <th>Low</th>\n",
       "      <th>Open</th>\n",
       "      <th>Volume</th>\n",
       "    </tr>\n",
       "    <tr>\n",
       "      <th>Ticker</th>\n",
       "      <th>GOOG</th>\n",
       "      <th>GOOG</th>\n",
       "      <th>GOOG</th>\n",
       "      <th>GOOG</th>\n",
       "      <th>GOOG</th>\n",
       "    </tr>\n",
       "    <tr>\n",
       "      <th>Date</th>\n",
       "      <th></th>\n",
       "      <th></th>\n",
       "      <th></th>\n",
       "      <th></th>\n",
       "      <th></th>\n",
       "    </tr>\n",
       "  </thead>\n",
       "  <tbody>\n",
       "    <tr>\n",
       "      <th>2004-08-19</th>\n",
       "      <td>2.487352</td>\n",
       "      <td>2.579567</td>\n",
       "      <td>2.378775</td>\n",
       "      <td>2.478923</td>\n",
       "      <td>897427216</td>\n",
       "    </tr>\n",
       "    <tr>\n",
       "      <th>2004-08-20</th>\n",
       "      <td>2.684922</td>\n",
       "      <td>2.704009</td>\n",
       "      <td>2.491318</td>\n",
       "      <td>2.503960</td>\n",
       "      <td>458857488</td>\n",
       "    </tr>\n",
       "    <tr>\n",
       "      <th>2004-08-23</th>\n",
       "      <td>2.711942</td>\n",
       "      <td>2.813082</td>\n",
       "      <td>2.703266</td>\n",
       "      <td>2.745407</td>\n",
       "      <td>366857939</td>\n",
       "    </tr>\n",
       "    <tr>\n",
       "      <th>2004-08-24</th>\n",
       "      <td>2.599647</td>\n",
       "      <td>2.766478</td>\n",
       "      <td>2.567421</td>\n",
       "      <td>2.757554</td>\n",
       "      <td>306396159</td>\n",
       "    </tr>\n",
       "    <tr>\n",
       "      <th>2004-08-25</th>\n",
       "      <td>2.627658</td>\n",
       "      <td>2.677238</td>\n",
       "      <td>2.575105</td>\n",
       "      <td>2.601877</td>\n",
       "      <td>184645512</td>\n",
       "    </tr>\n",
       "  </tbody>\n",
       "</table>\n",
       "</div>"
      ],
      "text/plain": [
       "Price          Close      High       Low      Open     Volume\n",
       "Ticker          GOOG      GOOG      GOOG      GOOG       GOOG\n",
       "Date                                                         \n",
       "2004-08-19  2.487352  2.579567  2.378775  2.478923  897427216\n",
       "2004-08-20  2.684922  2.704009  2.491318  2.503960  458857488\n",
       "2004-08-23  2.711942  2.813082  2.703266  2.745407  366857939\n",
       "2004-08-24  2.599647  2.766478  2.567421  2.757554  306396159\n",
       "2004-08-25  2.627658  2.677238  2.575105  2.601877  184645512"
      ]
     },
     "execution_count": 5,
     "metadata": {},
     "output_type": "execute_result"
    }
   ],
   "source": [
    "# 구글 주식 데이터 로딩 NVDA\n",
    "goog = yf.download(\"GOOG\", start=\"2004-01-01\", end=\"2024-12-31\")\n",
    "goog.head()"
   ]
  },
  {
   "cell_type": "code",
   "execution_count": 8,
   "id": "6f457a51-c696-48a1-aaf2-1f496213b5c4",
   "metadata": {},
   "outputs": [
    {
     "data": {
      "text/html": [
       "<div>\n",
       "<style scoped>\n",
       "    .dataframe tbody tr th:only-of-type {\n",
       "        vertical-align: middle;\n",
       "    }\n",
       "\n",
       "    .dataframe tbody tr th {\n",
       "        vertical-align: top;\n",
       "    }\n",
       "\n",
       "    .dataframe thead th {\n",
       "        text-align: right;\n",
       "    }\n",
       "</style>\n",
       "<table border=\"1\" class=\"dataframe\">\n",
       "  <thead>\n",
       "    <tr style=\"text-align: right;\">\n",
       "      <th>Ticker</th>\n",
       "      <th>GOOG</th>\n",
       "    </tr>\n",
       "    <tr>\n",
       "      <th>Date</th>\n",
       "      <th></th>\n",
       "    </tr>\n",
       "  </thead>\n",
       "  <tbody>\n",
       "    <tr>\n",
       "      <th>2004-08-19</th>\n",
       "      <td>2.487352</td>\n",
       "    </tr>\n",
       "    <tr>\n",
       "      <th>2004-08-20</th>\n",
       "      <td>2.684922</td>\n",
       "    </tr>\n",
       "    <tr>\n",
       "      <th>2004-08-23</th>\n",
       "      <td>2.711942</td>\n",
       "    </tr>\n",
       "    <tr>\n",
       "      <th>2004-08-24</th>\n",
       "      <td>2.599647</td>\n",
       "    </tr>\n",
       "    <tr>\n",
       "      <th>2004-08-25</th>\n",
       "      <td>2.627658</td>\n",
       "    </tr>\n",
       "    <tr>\n",
       "      <th>...</th>\n",
       "      <td>...</td>\n",
       "    </tr>\n",
       "    <tr>\n",
       "      <th>2024-12-23</th>\n",
       "      <td>195.766968</td>\n",
       "    </tr>\n",
       "    <tr>\n",
       "      <th>2024-12-24</th>\n",
       "      <td>197.345184</td>\n",
       "    </tr>\n",
       "    <tr>\n",
       "      <th>2024-12-26</th>\n",
       "      <td>196.875717</td>\n",
       "    </tr>\n",
       "    <tr>\n",
       "      <th>2024-12-27</th>\n",
       "      <td>193.819183</td>\n",
       "    </tr>\n",
       "    <tr>\n",
       "      <th>2024-12-30</th>\n",
       "      <td>192.470734</td>\n",
       "    </tr>\n",
       "  </tbody>\n",
       "</table>\n",
       "<p>5126 rows × 1 columns</p>\n",
       "</div>"
      ],
      "text/plain": [
       "Ticker            GOOG\n",
       "Date                  \n",
       "2004-08-19    2.487352\n",
       "2004-08-20    2.684922\n",
       "2004-08-23    2.711942\n",
       "2004-08-24    2.599647\n",
       "2004-08-25    2.627658\n",
       "...                ...\n",
       "2024-12-23  195.766968\n",
       "2024-12-24  197.345184\n",
       "2024-12-26  196.875717\n",
       "2024-12-27  193.819183\n",
       "2024-12-30  192.470734\n",
       "\n",
       "[5126 rows x 1 columns]"
      ]
     },
     "execution_count": 8,
     "metadata": {},
     "output_type": "execute_result"
    }
   ],
   "source": [
    "# [+] 종가(Close) 데이터만 사용하기\n",
    "goog = goog[\"Close\"]\n",
    "goog"
   ]
  },
  {
   "cell_type": "code",
   "execution_count": 9,
   "id": "f28adccb-f6d6-419e-b41f-2b348a9897de",
   "metadata": {},
   "outputs": [
    {
     "data": {
      "text/plain": [
       "<Axes: xlabel='Date'>"
      ]
     },
     "execution_count": 9,
     "metadata": {},
     "output_type": "execute_result"
    },
    {
     "data": {
      "image/png": "[encoded data removed]",
      "text/plain": [
       "<Figure size 640x480 with 1 Axes>"
      ]
     },
     "metadata": {},
     "output_type": "display_data"
    }
   ],
   "source": [
    "# [+] Lineplot 시각화\n",
    "goog.plot()"
   ]
  },
  {
   "cell_type": "markdown",
   "id": "70d87d05-d657-43d5-9cfa-c1f4147756b1",
   "metadata": {},
   "source": [
    "#### <strong> 리샘플링(Resampling)\n",
    "+ ```resample()```: 빈도를 기준으로 집계 연산\n",
    "+ ```asfreq()```: 빈도 단위 별 데이터 선택"
   ]
  },
  {
   "cell_type": "code",
   "execution_count": null,
   "id": "78a84683-a52b-48be-91f2-4fe1da94e910",
   "metadata": {},
   "outputs": [],
   "source": [
    "# [+] 다운샘플링: resample()\n",
    "goog_downsampled = ...\n",
    "goog_downsampled"
   ]
  },
  {
   "cell_type": "code",
   "execution_count": null,
   "id": "70a2b3be-d607-485e-af24-a776dc544f59",
   "metadata": {},
   "outputs": [],
   "source": [
    "fig, ax = plt.subplots(2, 1, sharey=True, figsize=(12, 6))\n",
    "goog.plot(label='original', ax=ax[0])\n",
    "ax[0].legend()\n",
    "goog_downsampled.plot(label='downsampled', ax=ax[1])\n",
    "ax[1].legend()\n",
    "plt.tight_layout()"
   ]
  },
  {
   "cell_type": "code",
   "execution_count": null,
   "id": "92933ed0-dfdd-4096-bad5-97c1bad86fc9",
   "metadata": {},
   "outputs": [],
   "source": [
    "# [+] 다운샘플링: asfreq()\n",
    "goog_downsampled = ...\n",
    "print(goog_downsampled)\n",
    "\n",
    "goog_downsampled.plot()"
   ]
  },
  {
   "cell_type": "code",
   "execution_count": null,
   "id": "f5157a71-bbd8-4cc8-8da8-6bd2d9cd571f",
   "metadata": {},
   "outputs": [],
   "source": [
    "# [+] 업샘플링: resample()\n",
    "goog_upsampled = ...\n",
    "print(goog_upsampled)"
   ]
  },
  {
   "cell_type": "markdown",
   "id": "9baa8ef4-abd6-445b-aae6-c48d38eef907",
   "metadata": {},
   "source": [
    "#### <strong> 시프팅(Shifting)\n",
    "+ ```shift(periods)``` : ```periods``` 값 만큼 시계열 이동"
   ]
  },
  {
   "cell_type": "code",
   "execution_count": null,
   "id": "38cdd9f0-e5e6-4d55-abe1-d965cf976cac",
   "metadata": {},
   "outputs": [],
   "source": [
    "# [+] 900일 뒤로 시프팅 적용\n",
    "goog_shifted = ...\n",
    "goog_shifted"
   ]
  },
  {
   "cell_type": "code",
   "execution_count": null,
   "id": "d7b07045-9b55-4038-be1b-b3d1f4aff8dd",
   "metadata": {},
   "outputs": [],
   "source": [
    "fig, ax = plt.subplots(2, 1, sharey=True, figsize=(12, 6))\n",
    "\n",
    "# Legends and annotations\n",
    "local_max = pd.to_datetime('2007-11-05')\n",
    "offset = pd.Timedelta(900, 'D')\n",
    "\n",
    "goog.plot(label='original', ax=ax[0])\n",
    "ax[0].legend()\n",
    "ax[0].get_xticklabels()[2].set(weight='heavy', color='red')\n",
    "ax[0].axvline(local_max, alpha=0.3, color='red')\n",
    "\n",
    "goog_shifted.plot(label='shifted 900 days', ax=ax[1])\n",
    "ax[1].legend()\n",
    "ax[1].get_xticklabels()[2].set(weight='heavy', color='red')\n",
    "ax[1].axvline(local_max + offset, alpha=0.3, color='red')\n",
    "\n",
    "plt.tight_layout()"
   ]
  },
  {
   "cell_type": "code",
   "execution_count": null,
   "id": "830718c8-39e4-47ce-885c-49154048ede3",
   "metadata": {},
   "outputs": [],
   "source": [
    "# shifting 응용: 주가 변화율 계산\n",
    "goog_shifted = ... # [+] 시프팅\n",
    "... # [+] 주가 변화율 계산"
   ]
  },
  {
   "cell_type": "code",
   "execution_count": null,
   "id": "c3094617-5cd4-48af-a6b6-489882111b76",
   "metadata": {},
   "outputs": [],
   "source": [
    "# shifting 응용: 차분 시계열 구하기\n",
    "goog_diff = ...  # [+] 차분\n",
    "print(goog_diff)\n",
    "\n",
    "goog_diff.plot()"
   ]
  },
  {
   "cell_type": "markdown",
   "id": "a74b7d31-d29b-4db8-837a-cf2468b3f834",
   "metadata": {},
   "source": [
    "#### <strong> 윈도잉(Windowing)"
   ]
  },
  {
   "cell_type": "code",
   "execution_count": null,
   "id": "f032ee09-fd75-47ec-955b-998d11286f5b",
   "metadata": {},
   "outputs": [],
   "source": [
    "# [+] 365일 단위 윈도잉\n",
    "goog_rolled = ...\n",
    "print(goog_rolled)\n",
    "\n",
    "goog_rolled.mean().plot()"
   ]
  },
  {
   "cell_type": "code",
   "execution_count": null,
   "id": "319099d2-f163-4fee-a7f5-53321821c588",
   "metadata": {},
   "outputs": [],
   "source": [
    "data = pd.DataFrame({'input': goog.values.flatten(),\n",
    "                     # moving average\n",
    "                     'one-year rolling_mean': goog_rolled.mean().values.flatten(), \n",
    "                     # standard deviation\n",
    "                     'one-year rolling_std': goog_rolled.std().values.flatten()}, index=goog.index)\n",
    "ax = data.plot(style=['-', '--', ':'])\n",
    "ax.lines[0].set_alpha(0.3)"
   ]
  }
 ],
 "metadata": {
  "kernelspec": {
   "display_name": "base",
   "language": "python",
   "name": "python3"
  },
  "language_info": {
   "codemirror_mode": {
    "name": "ipython",
    "version": 3
   },
   "file_extension": ".py",
   "mimetype": "text/x-python",
   "name": "python",
   "nbconvert_exporter": "python",
   "pygments_lexer": "ipython3",
   "version": "3.11.7"
  }
 },
 "nbformat": 4,
 "nbformat_minor": 5
}
