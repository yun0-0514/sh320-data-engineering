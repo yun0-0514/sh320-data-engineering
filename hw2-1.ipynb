{
 "cells": [
  {
   "cell_type": "markdown",
   "id": "2a3ba0dd",
   "metadata": {},
   "source": [
    "# 과제 1: 사랑스러운 러브시트 영수증\n",
    "### 202058128 박윤영"
   ]
  },
  {
   "cell_type": "markdown",
   "id": "859f9ba3",
   "metadata": {},
   "source": [
    "첫 번째 상품인 매장 이름의 유래인 Lovely Loveseat를 추가해 보겠습니다. 라는 변수를 만들고 lovely_loveseat_description다음 문자열을 할당합니다."
   ]
  },
  {
   "cell_type": "code",
   "execution_count": 52,
   "id": "ead67bff",
   "metadata": {},
   "outputs": [],
   "source": [
    "##러블리시트 가격 및 설명\n",
    "lovely_loveseat_description = \"Lovely Loveseat. Tufted polyester blend on wood. 32 inches high x 40 inches wide x 30 inches deep. Red or white.\"\n",
    "lovely_loveseat_price = 254.00\n",
    "#슬림한 소파 가격 및 설명\n",
    "stylish_settee_description = \"Stylish Settee. Faux leather on birch. 29.50 inches high x 54.75 inches wide x 28 inches deep. Black.\"\n",
    "stylish_Settee = 180.50\n",
    "#럭셔리 램프 가격 및 설명\n",
    "luxurious_lamp_description = \"Luxurious Lamp. Glass and iron. 36 inches tall. Brown with cream shade.\"\n",
    "luxurious_lamp_price = 52.15\n",
    "sales_tax = 0.088"
   ]
  },
  {
   "cell_type": "code",
   "execution_count": 53,
   "id": "60ad9939",
   "metadata": {},
   "outputs": [],
   "source": [
    "# 고객 1의 장바구니 초기구성\n",
    "customer_one_total = 0\n",
    "customer_one_itemization = \"\""
   ]
  },
  {
   "cell_type": "code",
   "execution_count": 54,
   "id": "b56c4b52",
   "metadata": {},
   "outputs": [],
   "source": [
    "#고객 1의 구매 내역\n",
    "customer_one_total += lovely_loveseat_price\n",
    "customer_one_itemization += lovely_loveseat_description"
   ]
  },
  {
   "cell_type": "code",
   "execution_count": 55,
   "id": "57ba51f5",
   "metadata": {},
   "outputs": [],
   "source": [
    "# 고객이 구매한 품목의 가격을 더합니다.\n",
    "customer_one_total += luxurious_lamp_price\n",
    "customer_one_itemization += luxurious_lamp_description"
   ]
  },
  {
   "cell_type": "code",
   "execution_count": 56,
   "id": "f021e8af",
   "metadata": {},
   "outputs": [],
   "source": [
    "#고객의 총 가격에 세금 추가\n",
    "customer_one_tax = customer_one_total * sales_tax\n",
    "customer_one_total += customer_one_tax"
   ]
  },
  {
   "cell_type": "code",
   "execution_count": 57,
   "id": "dc54337c",
   "metadata": {},
   "outputs": [
    {
     "name": "stdout",
     "output_type": "stream",
     "text": [
      "Customer One Items:\n",
      "Lovely Loveseat. Tufted polyester blend on wood. 32 inches high x 40 inches wide x 30 inches deep. Red or white.Luxurious Lamp. Glass and iron. 36 inches tall. Brown with cream shade.\n",
      "Customer One Total:\n",
      "333.09119999999996\n"
     ]
    }
   ],
   "source": [
    "print(\"Customer One Items:\")\n",
    "print(customer_one_itemization)\n",
    "print(\"Customer One Total:\")\n",
    "print(customer_one_total)"
   ]
  },
  {
   "cell_type": "code",
   "execution_count": null,
   "id": "3e29f5c0",
   "metadata": {},
   "outputs": [],
   "source": []
  },
  {
   "cell_type": "code",
   "execution_count": null,
   "id": "de88d56e",
   "metadata": {},
   "outputs": [],
   "source": []
  },
  {
   "cell_type": "code",
   "execution_count": null,
   "id": "9325a010",
   "metadata": {},
   "outputs": [],
   "source": []
  }
 ],
 "metadata": {
  "kernelspec": {
   "display_name": "base",
   "language": "python",
   "name": "python3"
  },
  "language_info": {
   "codemirror_mode": {
    "name": "ipython",
    "version": 3
   },
   "file_extension": ".py",
   "mimetype": "text/x-python",
   "name": "python",
   "nbconvert_exporter": "python",
   "pygments_lexer": "ipython3",
   "version": "3.11.7"
  }
 },
 "nbformat": 4,
 "nbformat_minor": 5
}
