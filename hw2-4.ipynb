{
 "cells": [
  {
   "cell_type": "markdown",
   "id": "0dcf7d55",
   "metadata": {},
   "source": [
    "# 과제 4: 나의 조선시대 이름 찾기\n",
    "### 202058128 박윤영"
   ]
  },
  {
   "cell_type": "code",
   "execution_count": null,
   "id": "c5ce4de5",
   "metadata": {},
   "outputs": [],
   "source": [
    "\n",
    "   "
   ]
  },
  {
   "cell_type": "code",
   "execution_count": null,
   "id": "f0d55185",
   "metadata": {},
   "outputs": [],
   "source": [
    "month = ['쌍', '쇠', '복', '돌', '팽', '육', '쌍', '개', '칠', '갑', '삼', '방']\n",
    "day = ['봉', '구', '욕', '포', '똥', '삼', '식', '석', '놈', '님', '년', '돌', '단', '득', '방', '질', '장', '걸', '래', '룡', '동', '순', '자', '박', '창', '언', '것', '포', '만', '단', '국']\n"
   ]
  },
  {
   "cell_type": "code",
   "execution_count": 12,
   "id": "59eae19a",
   "metadata": {},
   "outputs": [],
   "source": [
    "def get_my_chosun_name(family_name, user_month, user_day):\n",
    "   return print(\"당신의 이름은\",family_name + month[user_month-1] + day[user_day-1],'입니다')"
   ]
  },
  {
   "cell_type": "code",
   "execution_count": 13,
   "id": "60f56304",
   "metadata": {},
   "outputs": [
    {
     "name": "stdout",
     "output_type": "stream",
     "text": [
      "당신의 이름은 안칠걸 입니다\n"
     ]
    }
   ],
   "source": [
    "get_my_chosun_name('안', 9, 18)"
   ]
  },
  {
   "cell_type": "code",
   "execution_count": null,
   "id": "7900e70d",
   "metadata": {},
   "outputs": [],
   "source": []
  }
 ],
 "metadata": {
  "kernelspec": {
   "display_name": "base",
   "language": "python",
   "name": "python3"
  },
  "language_info": {
   "codemirror_mode": {
    "name": "ipython",
    "version": 3
   },
   "file_extension": ".py",
   "mimetype": "text/x-python",
   "name": "python",
   "nbconvert_exporter": "python",
   "pygments_lexer": "ipython3",
   "version": "3.11.7"
  }
 },
 "nbformat": 4,
 "nbformat_minor": 5
}
